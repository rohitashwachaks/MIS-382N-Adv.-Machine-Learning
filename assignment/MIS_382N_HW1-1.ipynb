{
  "nbformat": 4,
  "nbformat_minor": 2,
  "metadata": {
    "colab": {
      "name": "MIS 382N - HW1.ipynb",
      "provenance": [],
      "collapsed_sections": []
    },
    "kernelspec": {
      "name": "python3",
      "display_name": "Python 3.9.6 64-bit ('mis-382n': conda)"
    },
    "language_info": {
      "name": "python",
      "version": "3.9.6",
      "mimetype": "text/x-python",
      "codemirror_mode": {
        "name": "ipython",
        "version": 3
      },
      "pygments_lexer": "ipython3",
      "nbconvert_exporter": "python",
      "file_extension": ".py"
    },
    "interpreter": {
      "hash": "4361aab12e46f73717a057315632a39c5720c41841579418b91b07fe756a6691"
    }
  },
  "cells": [
    {
      "cell_type": "markdown",
      "source": [
        "# <p style=\"text-align: center;\">MIS 382N: Advanced Machine Learning</p>\n",
        "# <p style=\"text-align: center;\">Homework 1</p>\n",
        "## <p style=\"text-align: center;\">Total points: 55</p>\n",
        "## <p style=\"text-align: center;\">Due: Wednesday, Sep 8 submitted via Canvas by 11:59 pm</p>\n",
        "\n",
        "Your homework should be written in a **Jupyter notebook**. Please make sure your code runs and the graphics (and anything else) are displayed in your notebook before submitting. (%matplotlib inline)\n",
        "\n",
        "**Note: Notebooks MUST have the images embedded in them. There will be no regrades if attached images do not render in the notebook. Please re download from canvas after submission and make sure all attached images render without errors. (Hint: Image module from IPython.display)**"
      ],
      "metadata": {
        "id": "evHVxwk2JA-3"
      }
    },
    {
      "cell_type": "markdown",
      "source": [
        "# Team Members\n",
        "\n",
        "- Rohitashwa Chakraborty _(rc47878)_\n",
        "- Sahitya Sundar Raj Vijayanagar _(sv25849)_\n"
      ],
      "metadata": {}
    },
    {
      "cell_type": "code",
      "execution_count": 1,
      "source": [
        "%matplotlib inline"
      ],
      "outputs": [],
      "metadata": {}
    },
    {
      "cell_type": "markdown",
      "source": [
        "# Question 1: MLOps (10 pts)\n",
        "Read this [article](https://towardsdatascience.com/what-is-mlops-everything-you-must-know-to-get-started-523f2d0b8bd8) \"What is MLOps — Everything You Must Know to Get Started\", which gives a quick walkthrough of the machine learning development lifecycle and explains how MLOps come into play, or watch this [video](https://www.youtube.com/watch?v=06-AZXmwHjo) which you may find interesting.\n",
        "\n",
        "## 1. (**4 pts**) Use your own words to describe what MLOps is, and what challenges MLOps address. Limit your answer to one paragraph\n",
        "\n",
        "## **Answer 1**\n",
        "\n",
        "MLOps is an engineering discipline the focuses on the _unification_, _standardisation_ and _streamlining_ of Machine Learning or Deep Learning systems. The primary aim is to facilitate continuous development and deployment of high-performing models in production environments _(i.e: MLOps is the intersection of Data Science and DevOps)_. As Machine Learning solutions become increasingly ubiqutous, so do the technical challenges of maintaining these systems. A typical ML solution lifecycle requires several cross-functional teams to work in tandem:\n",
        "\n",
        "- **Business development or Product team** — _defining business objective with KPIs_\n",
        "- **Data Engineering** — _data acquisition and preparation_\n",
        "- **Data Science** — _architecting ML solutions and developing models_\n",
        "- **IT / DevOps** — _complete deployment setup, monitoring alongside scientists_\n",
        "\n",
        "Major challenges and bottlenecks that MLOps seeks to resolve are:\n",
        "\n",
        "- Shortage of Data Scientists who are good at developing and deploying scalable web applications\n",
        "- Reflecte changing business objectives in the model\n",
        "- Communicate between the Technical and Functional teams\n",
        "- Risk assessment\n",
        "\n",
        "## 2. (**6 pts**) Describe what the main phases in MLOps are. Your answer should be 2-3 paragraphs\n",
        "\n",
        "## **Answer 2**\n",
        "\n",
        "Boo thaaaaang\n"
      ],
      "metadata": {
        "id": "TWWU_gOSLEEv"
      }
    },
    {
      "cell_type": "code",
      "execution_count": null,
      "source": [],
      "outputs": [],
      "metadata": {}
    },
    {
      "cell_type": "markdown",
      "source": [
        "# Question 2: Applications of Machine Learning (5 pts)\n",
        "Read this [article](https://builtin.com/data-science/data-science-applications-examples) \"17 Data Science Applications & Examples\" and pick one of the data science systems used by various organizations according to this blog. \n",
        "\n",
        "For this system you have chosen, answer the following questions. Please limit your answer to one paragraph:\n",
        "\n",
        "1. What kind of machine learning problem is involved (e.g. classification, regression, clustering, outlier detection,...) in this system?\n",
        "2. Speculate on what kind of data may be needed and how the results can be useful to the organization.\n",
        "3. What do you think are the ethical implications of using machine learning in a domain like this?\n",
        "\n",
        "## Answer:\n",
        "\n",
        "UberEats\n",
        "\n",
        "However, when algorithms get implemented, drivers usually get angry. The more they drive, the less incentive they receive; the algorithm predicts that they would drive long hours regardless so there is no point of incentivizing with a weekly bonus. On the other hands, there are cases where drivers work too hard in order to hit the weekly bonus target, severely impacting their health.\n",
        "\n",
        "This is an important issue because physical and mental health of drivers are at stake, while the algorithm has no idea about the hidden cost as it is designed to gamify and optimize for certain metrics. To address this issue, in the short term, Uber management teams is currently carefully examining algorithms that get deployed and intervene in the case that the algorithms get out of control. Operation teams constantly provide feedback to the data science team whenever there is a backlash from driver partners. Regarding other steps the company should take, short term, it should foster more collaboration between teams to gather better insights from drivers and riders to incorporate ethical elements in the product design and development process. Drivers partners should have a voice in how algorithms are pushed to them and product features that they use every day. Also, it should implement and champion more balanced business metrics like customer satisfaction score, safety metrics, etc. instead of purely focusing on top line growth. This will continue to become a big challenge as Uber is going public next year, facing more pressure from investors to grow more efficiently.\n",
        "\n",
        "Airbnb\n",
        "\n",
        "Ethical concerns\n",
        "Potential price discrimination based on mapped micro-neighbourhoods, race, gender, ethnicity, income, etc. Host picture and name could intentionally or unintentionally influence booking decisions. Vice versa last minute cancellations by host.\n",
        "Algorithms could be used for vertical agreements i.e based on the price of one firm/consumers reactions price prediction for other products/services resulting in higher prices.\n",
        "Algorithmic pricing can intensify competition, infringe competition laws resulting in different price for customers for identical products/services.\n",
        "Pricing decisions based on past bias/discrimination would mean that the algorithms continues the same practices rather than unlearn."
      ],
      "metadata": {
        "id": "wusA9L1LmUMH"
      }
    },
    {
      "cell_type": "markdown",
      "source": [
        "# Question 3: Simpson's Paradox (10 pts)\n",
        "A data scientist should be careful about drawing unwarranted conclusions about any data that is presented. One of the 'gotchas' that can happen even in apparently very simple tabular summaries, is called Simpson's paradox.\n",
        "\n",
        "Read this [article](https://www.covid-datascience.com/post/israeli-data-how-can-efficacy-vs-severe-disease-be-strong-when-60-of-hospitalized-are-vaccinated), which explains why the computed efficacy of the Pfizer vaccine is misleadingly low (67.5%) when you lump all people together, but once you stratify people by age (which is the right thing to do), you get much higher efficacy numbers.\n",
        "\n",
        "1.(**5 pts**) Explain in your own words what Simpson's paradox is, and how this 'paradox' can happen in real data.\n",
        "\n",
        "2.(**5 pts**) Find and mention another example of Simpson's paradox (but not any of the 3 examples given in the Wikipedia entry for 'Simpson's paradox'), state why the paradox appeared in your chosen example. Also give a reference (URL) to your source for the chosen example.\n",
        "\n",
        "## Answer:"
      ],
      "metadata": {
        "id": "2w8za9lLmVO7"
      }
    },
    {
      "cell_type": "markdown",
      "source": [
        "# Question 4: Ridge and Lasso Regression (30 pts)\n",
        "\n",
        "Download the dataset **Admission.csv** from Canvas and use the following codes to import the Admission dataset in Python. \n",
        "\n",
        "There are 7 features in the dataset:\n",
        "\n",
        "1. GRE score\n",
        "2. TOEFL score\n",
        "3. University Rating\n",
        "4. SOP(Statement of Purpose)\n",
        "5. LOR(Letter of Recommendation)\n",
        "6. CGPA\n",
        "7. Research\n",
        "\n",
        "And the target is **Chance of Admission**."
      ],
      "metadata": {
        "id": "gth0D8jiMBSe"
      }
    },
    {
      "cell_type": "code",
      "execution_count": 2,
      "source": [
        "# # Only use this code block if you are using Google Colab.\n",
        "# # If you are using Jupyter Notebook, please ignore this code block. You can directly upload the file to your Jupyter Notebook file systems.\n",
        "# from google.colab import files\n",
        "\n",
        "# ## It will prompt you to select a local file. Click on “Choose Files” then select and upload the file. \n",
        "# ## Wait for the file to be 100% uploaded. You should see the name of the file once Colab has uploaded it.\n",
        "# uploaded = files.upload()"
      ],
      "outputs": [],
      "metadata": {
        "id": "QFazlpLgGpAa"
      }
    },
    {
      "cell_type": "code",
      "execution_count": 3,
      "source": [
        "# Codes below will work for both Google Colab and Jupyter Notebook.\n",
        "import numpy as np\n",
        "import pandas as pd\n",
        "import random\n",
        "from sklearn import linear_model\n",
        "from sklearn.metrics import mean_absolute_error, mean_squared_error\n",
        "from sklearn.linear_model import LogisticRegression\n",
        "\n",
        "## Load the dataset into pandas DataFrame\n",
        "df = pd.read_csv('Admission.csv', index_col=0)\n",
        "df = df.replace([np.inf, -np.inf], np.nan) # \n",
        "df = df.fillna(0) # Replace all the NaN values with 0"
      ],
      "outputs": [],
      "metadata": {
        "id": "xsPaOOehGuU6"
      }
    },
    {
      "cell_type": "code",
      "execution_count": 4,
      "source": [
        "df.columns # Show you all the columns in this file"
      ],
      "outputs": [
        {
          "output_type": "execute_result",
          "data": {
            "text/plain": [
              "Index(['GRE_Score', 'TOEFL_Score', 'University_Rating', 'SOP', 'LOR ', 'CGPA',\n",
              "       'Research', 'Chance_of_Admit'],\n",
              "      dtype='object')"
            ]
          },
          "metadata": {},
          "execution_count": 4
        }
      ],
      "metadata": {
        "id": "PmMz72U6Gv-z"
      }
    },
    {
      "cell_type": "code",
      "execution_count": 5,
      "source": [
        "df.head() # Show you the first 5 rows in this file"
      ],
      "outputs": [
        {
          "output_type": "execute_result",
          "data": {
            "text/html": [
              "<div>\n",
              "<style scoped>\n",
              "    .dataframe tbody tr th:only-of-type {\n",
              "        vertical-align: middle;\n",
              "    }\n",
              "\n",
              "    .dataframe tbody tr th {\n",
              "        vertical-align: top;\n",
              "    }\n",
              "\n",
              "    .dataframe thead th {\n",
              "        text-align: right;\n",
              "    }\n",
              "</style>\n",
              "<table border=\"1\" class=\"dataframe\">\n",
              "  <thead>\n",
              "    <tr style=\"text-align: right;\">\n",
              "      <th></th>\n",
              "      <th>GRE_Score</th>\n",
              "      <th>TOEFL_Score</th>\n",
              "      <th>University_Rating</th>\n",
              "      <th>SOP</th>\n",
              "      <th>LOR</th>\n",
              "      <th>CGPA</th>\n",
              "      <th>Research</th>\n",
              "      <th>Chance_of_Admit</th>\n",
              "    </tr>\n",
              "    <tr>\n",
              "      <th>Serial No.</th>\n",
              "      <th></th>\n",
              "      <th></th>\n",
              "      <th></th>\n",
              "      <th></th>\n",
              "      <th></th>\n",
              "      <th></th>\n",
              "      <th></th>\n",
              "      <th></th>\n",
              "    </tr>\n",
              "  </thead>\n",
              "  <tbody>\n",
              "    <tr>\n",
              "      <th>1</th>\n",
              "      <td>337</td>\n",
              "      <td>118</td>\n",
              "      <td>4</td>\n",
              "      <td>4.5</td>\n",
              "      <td>4.5</td>\n",
              "      <td>9.65</td>\n",
              "      <td>1</td>\n",
              "      <td>0.92</td>\n",
              "    </tr>\n",
              "    <tr>\n",
              "      <th>2</th>\n",
              "      <td>324</td>\n",
              "      <td>107</td>\n",
              "      <td>4</td>\n",
              "      <td>4.0</td>\n",
              "      <td>4.5</td>\n",
              "      <td>8.87</td>\n",
              "      <td>1</td>\n",
              "      <td>0.76</td>\n",
              "    </tr>\n",
              "    <tr>\n",
              "      <th>3</th>\n",
              "      <td>316</td>\n",
              "      <td>104</td>\n",
              "      <td>3</td>\n",
              "      <td>3.0</td>\n",
              "      <td>3.5</td>\n",
              "      <td>8.00</td>\n",
              "      <td>1</td>\n",
              "      <td>0.72</td>\n",
              "    </tr>\n",
              "    <tr>\n",
              "      <th>4</th>\n",
              "      <td>322</td>\n",
              "      <td>110</td>\n",
              "      <td>3</td>\n",
              "      <td>3.5</td>\n",
              "      <td>2.5</td>\n",
              "      <td>8.67</td>\n",
              "      <td>1</td>\n",
              "      <td>0.80</td>\n",
              "    </tr>\n",
              "    <tr>\n",
              "      <th>5</th>\n",
              "      <td>314</td>\n",
              "      <td>103</td>\n",
              "      <td>2</td>\n",
              "      <td>2.0</td>\n",
              "      <td>3.0</td>\n",
              "      <td>8.21</td>\n",
              "      <td>0</td>\n",
              "      <td>0.65</td>\n",
              "    </tr>\n",
              "  </tbody>\n",
              "</table>\n",
              "</div>"
            ],
            "text/plain": [
              "            GRE_Score  TOEFL_Score  University_Rating  SOP  LOR   CGPA  \\\n",
              "Serial No.                                                               \n",
              "1                 337          118                  4  4.5   4.5  9.65   \n",
              "2                 324          107                  4  4.0   4.5  8.87   \n",
              "3                 316          104                  3  3.0   3.5  8.00   \n",
              "4                 322          110                  3  3.5   2.5  8.67   \n",
              "5                 314          103                  2  2.0   3.0  8.21   \n",
              "\n",
              "            Research  Chance_of_Admit  \n",
              "Serial No.                             \n",
              "1                  1             0.92  \n",
              "2                  1             0.76  \n",
              "3                  1             0.72  \n",
              "4                  1             0.80  \n",
              "5                  0             0.65  "
            ]
          },
          "metadata": {},
          "execution_count": 5
        }
      ],
      "metadata": {
        "id": "CyZN-yFfGxlt"
      }
    },
    {
      "cell_type": "code",
      "execution_count": 6,
      "source": [
        "y = df['Chance_of_Admit'] # The column named Chance_of_Admit is used as the target, and we store it in y\n",
        "X = df.drop(['Chance_of_Admit'], axis=1) # We keep the remaining columns as the features, and store them in x"
      ],
      "outputs": [],
      "metadata": {
        "id": "S3TfR0i4G2rO"
      }
    },
    {
      "cell_type": "markdown",
      "source": [
        "***\n",
        "\n",
        "## 1\n",
        "\n",
        "(**2 pts**) Split the data into a training set(75% of data) and a test set(25% of data), using the [train_test_split](https://scikit-learn.org/stable/modules/generated/sklearn.model_selection.train_test_split.html) function with random_state = 50. Then scale the data (not including target) so that each of the independent variables would have zero mean and unit variance. You can use the [sklearn.preprocessing.scale](https://scikit-learn.org/stable/modules/generated/sklearn.preprocessing.scale.html) function for this. Print the first 5 rows of the training set after scaling."
      ],
      "metadata": {}
    },
    {
      "cell_type": "code",
      "execution_count": 7,
      "source": [
        "from sklearn.model_selection import train_test_split\n",
        "X_train, X_test, y_train, y_test = train_test_split(X, y, test_size=0.25, random_state=50)\n",
        "print(\"Size of Original data: \",y.shape[0])\n",
        "print(\"Size of Test data (25%): \",y_test.shape[0])\n",
        "print(\"Size of Training data (75%): \",y_train.shape[0])"
      ],
      "outputs": [
        {
          "output_type": "stream",
          "name": "stdout",
          "text": [
            "Size of Original data:  400\n",
            "Size of Test data (25%):  100\n",
            "Size of Training data (75%):  300\n"
          ]
        }
      ],
      "metadata": {}
    },
    {
      "cell_type": "code",
      "execution_count": 8,
      "source": [
        "from sklearn.preprocessing import scale\n",
        "X_train_tr = scale(X_train)\n",
        "X_test_tr = scale(X_test)\n",
        "print(X_train_tr[0:5])"
      ],
      "outputs": [
        {
          "output_type": "stream",
          "name": "stdout",
          "text": [
            "[[ 1.52725374  2.0917706   1.61594354  0.63150829  1.72829095  2.11370277\n",
            "   0.90453403]\n",
            " [ 0.74180896  0.46308859 -0.9310778  -0.35266047 -1.04140609  0.29488827\n",
            "   0.90453403]\n",
            " [ 0.56726568  0.13735218  1.61594354  0.63150829  0.62041214  0.26211684\n",
            "   0.90453403]\n",
            " [-0.39272239 -0.51412062 -0.08207069  0.13942391  0.62041214 -0.80295471\n",
            "  -1.1055416 ]\n",
            " [ 0.47999403  0.78882499  0.76693642  1.12359267  1.17435154  1.11417408\n",
            "   0.90453403]]\n"
          ]
        }
      ],
      "metadata": {}
    },
    {
      "cell_type": "markdown",
      "source": [
        "***\n",
        "\n",
        "## 2\n",
        "\n",
        "(**5 pts**) Use [sklearn.linear_model.Lasso](https://scikit-learn.org/stable/modules/generated/sklearn.linear_model.Lasso.html) and [sklearn.linear_model.Ridge](https://scikit-learn.org/stable/modules/generated/sklearn.linear_model.Ridge.html) classes to do a **5-fold** cross validation using sklearn's KFold. For the sweep of the regularization parameter, we will look at a grid of values ranging from α=10^10 to α=10^−6. In Python, you can consider this range of values as follows: alpha = 10**numpy.linspace(6,-6,100) \n",
        "so that you can generate 100 uniform values between -6 to 6 as power series.\n",
        "\n",
        "Fit the 2 regression models with scaled data and report the best chosen **α** based on cross validation as well as the corresponding scoring metric. The cross validation should happen on your training data using **MSE** as the scoring metric.\n"
      ],
      "metadata": {}
    },
    {
      "cell_type": "code",
      "execution_count": 9,
      "source": [
        "from sklearn.model_selection import KFold\n",
        "\n",
        "alpha_list = 10**np.linspace(6,-6,100)\n",
        "\n",
        "# Lasso Regression\n",
        "\n",
        "cv = []\n",
        "\n",
        "for alpha in alpha_list:\n",
        "    cv_error = []\n",
        "    for train_index, test_index in KFold().split(X_test_tr):\n",
        "        lmdl = linear_model.Lasso(alpha= alpha)\n",
        "        lmdl.fit(X_train_tr[train_index],y_train.iloc[train_index])\n",
        "        lmdl_preds = lmdl.predict(X_train_tr[test_index])\n",
        "        cv_error.append(mean_squared_error(lmdl_preds, y_train.iloc[test_index]))\n",
        "    # cv.append(cv_error)\n",
        "    cv.append(np.mean(cv_error))\n",
        "    \n",
        "cv = pd.DataFrame(cv, index=alpha_list, columns=[\"MSE\"])\n",
        "lasso_alpha = cv[\"MSE\"].idxmin()\n",
        "lasso_error = cv.loc[lasso_alpha][\"MSE\"]\n",
        "print(\"Lasso Regression Cross-Validation:\\n\\toptimal alpha = {alpha}\\n\\tMSE: {mse}\".format(alpha = lasso_alpha, mse = lasso_error))"
      ],
      "outputs": [
        {
          "output_type": "stream",
          "name": "stdout",
          "text": [
            "Lasso Regression Cross-Validation:\n",
            "\toptimal alpha = 0.002477076355991714\n",
            "\tMSE: 0.004595796102324209\n"
          ]
        }
      ],
      "metadata": {}
    },
    {
      "cell_type": "code",
      "execution_count": 10,
      "source": [
        "# Ridge Regression\n",
        "\n",
        "cv = []\n",
        "\n",
        "for alpha in alpha_list:\n",
        "    cv_error = []\n",
        "    for train_index, test_index in KFold().split(X_test_tr):\n",
        "        rmdl = linear_model.Ridge(alpha= alpha)\n",
        "        rmdl.fit(X_train_tr[train_index],y_train.iloc[train_index])\n",
        "        rmdl_preds = rmdl.predict(X_train_tr[test_index])\n",
        "        cv_error.append(mean_squared_error(rmdl_preds, y_train.iloc[test_index]))\n",
        "    # cv.append(cv_error)\n",
        "    cv.append(np.mean(cv_error))\n",
        "    \n",
        "cv = pd.DataFrame(cv, index=alpha_list, columns=[\"MSE\"])\n",
        "ridge_alpha = cv[\"MSE\"].idxmin()\n",
        "ridge_error = cv.loc[ridge_alpha][\"MSE\"]\n",
        "print(\"Ridge Regression Cross-Validation:\\n\\toptimal alpha = {alpha}\\n\\tMSE: {mse}\".format(alpha = ridge_alpha, mse = ridge_error))"
      ],
      "outputs": [
        {
          "output_type": "stream",
          "name": "stdout",
          "text": [
            "Ridge Regression Cross-Validation:\n",
            "\toptimal alpha = 10.722672220103231\n",
            "\tMSE: 0.004540149680011794\n"
          ]
        }
      ],
      "metadata": {}
    },
    {
      "cell_type": "markdown",
      "source": [
        "***\n",
        "\n",
        "## 3\n",
        "\n",
        "(**5 pts**) Run ridge and lasso regression for all of the **α** specified above (on training data), and plot the coefficients learned for each of them - there should be one plot each for lasso and ridge, so a total of two plots; different features' weights of each model should be on the same plot with different colors (3pts). \n",
        "\n",
        "What do you qualitatively observe when the value of the regularization parameter changes (2pts)?\n"
      ],
      "metadata": {}
    },
    {
      "cell_type": "code",
      "execution_count": 11,
      "source": [
        "lasso_coeffs = pd.DataFrame(columns=X_train.columns, index=alpha_list)\n",
        "\n",
        "for alpha in alpha_list:\n",
        "    lmdl = linear_model.Lasso(alpha= alpha)\n",
        "    lmdl.fit(X_train_tr,y_train)\n",
        "    lasso_coeffs.loc[alpha] = lmdl.coef_"
      ],
      "outputs": [],
      "metadata": {}
    },
    {
      "cell_type": "code",
      "execution_count": 12,
      "source": [
        "ridge_coeffs = pd.DataFrame(columns=X_train.columns, index=alpha_list)\n",
        "\n",
        "for alpha in alpha_list:\n",
        "    rmdl = linear_model.Ridge(alpha= alpha)\n",
        "    rmdl.fit(X_train_tr,y_train)\n",
        "    ridge_coeffs.loc[alpha] = rmdl.coef_"
      ],
      "outputs": [],
      "metadata": {}
    },
    {
      "cell_type": "code",
      "execution_count": 13,
      "source": [
        "import matplotlib.pyplot as plt\n",
        "\n",
        "fig, ax = plt.subplots(1,2, sharey=True, sharex=True)\n",
        "fig.set_size_inches(15, 7,  forward=True)\n",
        "\n",
        "ax[0].plot(np.log10(alpha_list),lasso_coeffs, label = lasso_coeffs.columns)\n",
        "ax[0].set_ylabel(\"Coefficient Values\")\n",
        "ax[0].set_xlabel(\"log(alpha)\")\n",
        "ax[0].set_title(\"Lasso Regression\")\n",
        "ax[0].set_label(lasso_coeffs.columns)\n",
        "ax[0].grid(True)\n",
        "\n",
        "ax[1].plot(np.log10(alpha_list),ridge_coeffs, label = ridge_coeffs.columns)\n",
        "# ax[1].set_ylabel(\"Coefficient Values\")\n",
        "ax[1].set_xlabel(\"log(alpha)\")\n",
        "ax[1].set_title(\"Ridge Regression\")\n",
        "ax[1].grid(True)"
      ],
      "outputs": [
        {
          "output_type": "display_data",
          "data": {
            "image/png": "[encoded data removed]",
            "text/plain": [
              "<Figure size 1080x504 with 2 Axes>"
            ]
          },
          "metadata": {
            "needs_background": "light"
          }
        }
      ],
      "metadata": {}
    },
    {
      "cell_type": "markdown",
      "source": [
        "For **LASSO REGRESSION**, as the $\\alpha$ value increases, i.e: the regularisation parameter increases, the value of the coefficients is set to **Zero**. Thus, We see that as $\\alpha$ increases, all coefficients sharply drop to 0.\n",
        "\n",
        "For **RIDGE REGRESSION** however, as the $\\alpha$ value  increases, the value of the coefficients gradually approaches **ZERO**."
      ],
      "metadata": {}
    },
    {
      "cell_type": "markdown",
      "source": [
        "***\n",
        "\n",
        "## 4\n",
        "\n",
        "(**3 pts**) Take the exponential of Y_train as the target, and fit the 2 regression models again. Report the best chosen **α** based on cross validation as well as the corresponding scoring metric. Compare the results of using the original target with the results of using the exponential of the target. What do you observe? "
      ],
      "metadata": {}
    },
    {
      "cell_type": "code",
      "execution_count": 14,
      "source": [
        "# Lasso Regression\n",
        "\n",
        "cv = []\n",
        "\n",
        "for alpha in alpha_list:\n",
        "    cv_error = []\n",
        "    for train_index, test_index in KFold().split(X_test_tr):\n",
        "        lmdl = linear_model.Lasso(alpha= alpha)\n",
        "        lmdl.fit(X_train_tr[train_index],np.exp(y_train.iloc[train_index]))\n",
        "        lmdl_preds = lmdl.predict(X_train_tr[test_index])\n",
        "        cv_error.append(mean_squared_error(lmdl_preds, np.exp(y_train.iloc[test_index])))\n",
        "    # cv.append(cv_error)\n",
        "    cv.append(np.mean(cv_error))\n",
        "    \n",
        "cv = pd.DataFrame(cv, index=alpha_list, columns=[\"MSE\"])\n",
        "exp_lasso_alpha = cv[\"MSE\"].idxmin()\n",
        "exp_lasso_error = cv.loc[exp_lasso_alpha][\"MSE\"]\n",
        "print(\"Lasso Regression Cross-Validation:\\n\\toptimal alpha = {alpha}\\n\\tMSE: {mse}\".format(alpha = exp_lasso_alpha, mse = exp_lasso_error))"
      ],
      "outputs": [
        {
          "output_type": "stream",
          "name": "stdout",
          "text": [
            "Lasso Regression Cross-Validation:\n",
            "\toptimal alpha = 0.004328761281083062\n",
            "\tMSE: 0.017668539670527846\n"
          ]
        }
      ],
      "metadata": {}
    },
    {
      "cell_type": "code",
      "execution_count": 15,
      "source": [
        "# Ridge Regression\n",
        "\n",
        "cv = []\n",
        "\n",
        "for alpha in alpha_list:\n",
        "    cv_error = []\n",
        "    for train_index, test_index in KFold().split(X_test_tr):\n",
        "        rmdl = linear_model.Ridge(alpha= alpha)\n",
        "        rmdl.fit(X_train_tr[train_index],np.exp(y_train.iloc[train_index]))\n",
        "        rmdl_preds = rmdl.predict(X_train_tr[test_index])\n",
        "        cv_error.append(mean_squared_error(rmdl_preds, np.exp(y_train.iloc[test_index])))\n",
        "    # cv.append(cv_error)\n",
        "    cv.append(np.mean(cv_error))\n",
        "    \n",
        "cv = pd.DataFrame(cv, index=alpha_list, columns=[\"MSE\"])\n",
        "exp_ridge_alpha = cv[\"MSE\"].idxmin()\n",
        "exp_ridge_error = cv.loc[exp_ridge_alpha][\"MSE\"]\n",
        "print(\"Ridge Regression Cross-Validation:\\n\\toptimal alpha = {alpha}\\n\\tMSE: {mse}\".format(alpha = exp_ridge_alpha, mse = exp_ridge_error))"
      ],
      "outputs": [
        {
          "output_type": "stream",
          "name": "stdout",
          "text": [
            "Ridge Regression Cross-Validation:\n",
            "\toptimal alpha = 10.722672220103231\n",
            "\tMSE: 0.01744727752195566\n"
          ]
        }
      ],
      "metadata": {}
    },
    {
      "cell_type": "markdown",
      "source": [
        "Upon training our models against $e^{y\\_train}$ the MSE of the optimal model increases. This is because the $\\sigma_{e^{y\\_train}}$ also increases when y_train is exponentiated.\n",
        "\n",
        "The Optimal $\\alpha$ for Lasso Regression increases.\n",
        "\n",
        "The Optimal $\\alpha$ for Ridge Regression remains the same."
      ],
      "metadata": {}
    },
    {
      "cell_type": "markdown",
      "source": [
        "***\n",
        "\n",
        "## 5\n",
        "\n",
        "(**5 pts**) Similarly, use [sklearn.linear_model.ElasticNet](https://scikit-learn.org/stable/modules/generated/sklearn.linear_model.ElasticNet.html) to do linear regression with different **α** values, and plot the coefficients learned for each of them (2pts). Observe the plot, then explain the pros and cons of ridge, lasso and Elastic Net models (3pts)"
      ],
      "metadata": {}
    },
    {
      "cell_type": "code",
      "execution_count": 16,
      "source": [
        "elastic_coeffs = pd.DataFrame(columns=X_train.columns, index=alpha_list)\n",
        "\n",
        "for alpha in alpha_list:\n",
        "    enet_mdl = linear_model.ElasticNet(alpha= alpha)\n",
        "    enet_mdl.fit(X_train_tr,y_train)\n",
        "    elastic_coeffs.loc[alpha] = enet_mdl.coef_\n",
        "\n",
        "fig, ax = plt.subplots()\n",
        "fig.set_size_inches(7, 7,  forward=True)\n",
        "\n",
        "ax.plot(np.log10(alpha_list),elastic_coeffs, label = elastic_coeffs.columns)\n",
        "ax.set_ylabel(\"Coefficient Values\")\n",
        "ax.set_xlabel(\"log(alpha)\")\n",
        "ax.set_title(\"ElasticNet Regression\")\n",
        "ax.grid(True)"
      ],
      "outputs": [
        {
          "output_type": "display_data",
          "data": {
            "image/png": "[encoded data removed]",
            "text/plain": [
              "<Figure size 504x504 with 1 Axes>"
            ]
          },
          "metadata": {
            "needs_background": "light"
          }
        }
      ],
      "metadata": {}
    },
    {
      "cell_type": "markdown",
      "source": [
        "# WRITE COMPARISION B/W LASSO, RIDGE, ELASTICNET"
      ],
      "metadata": {}
    },
    {
      "cell_type": "markdown",
      "source": [
        "***\n",
        "\n",
        "## 6\n",
        "\n",
        "(**5 pts**) Run the following three regression models with **MSE** loss on the training data: \n",
        "\n",
        "a. linear regression without regularization (1pts)\n",
        "\n",
        "b. linear regression with ridge regularization (2pts)\n",
        "\n",
        "c. linear regression with lasso regularization (2pts)\n",
        "\n",
        "For part (b) and (c), use only the best regularization parameters. Report the MSE and R<sup>2</sup> on the test data for each model."
      ],
      "metadata": {}
    },
    {
      "cell_type": "code",
      "execution_count": 26,
      "source": [
        "from sklearn.metrics import r2_score\n",
        "\n",
        "# Linear Regression without Regularisation\n",
        "lm = linear_model.LinearRegression()\n",
        "lm.fit(X_train_tr,y_train)\n",
        "pred = lm.predict(X_test_tr)\n",
        "lm_mse = mean_squared_error(pred, y_test)\n",
        "lm_r2 = r2_score(y_test, pred)\n",
        "\n",
        "print(\"Metrics - Linear Regression (No Regularisation):\")\n",
        "print(\"\\tMSE:\", lm_mse)\n",
        "print(\"\\tR\\u00b2:\", lm_r2)\n",
        "\n",
        "# Lasso Regression\n",
        "lasso_mdl = linear_model.Lasso(alpha=lasso_alpha)\n",
        "lasso_mdl.fit(X_train_tr,y_train)\n",
        "pred = lasso_mdl.predict(X_test_tr)\n",
        "lasso_mse = mean_squared_error(pred, y_test)\n",
        "lasso_r2 = r2_score(y_test, pred)\n",
        "\n",
        "\n",
        "print(\"\\nMetrics - Lasso Regression (alpha = {alp}):\".format(alp = lasso_alpha.round(5)))\n",
        "print(\"\\tMSE:\", lasso_mse)\n",
        "print(\"\\tR\\u00b2:\", lasso_r2)\n",
        "\n",
        "# Ridge Regression\n",
        "ridge_mdl = linear_model.Ridge(alpha=ridge_alpha)\n",
        "ridge_mdl.fit(X_train_tr,y_train)\n",
        "pred = ridge_mdl.predict(X_test_tr)\n",
        "ridge_mse = mean_squared_error(pred, y_test)\n",
        "ridge_r2 = r2_score(y_test, pred)\n",
        "\n",
        "\n",
        "print(\"\\nMetrics - Ridge Regression (alpha = {alp}):\".format(alp = ridge_alpha.round(2)))\n",
        "print(\"\\tMSE:\", ridge_mse)\n",
        "print(\"\\tR\\u00b2:\", ridge_r2)\n"
      ],
      "outputs": [
        {
          "output_type": "stream",
          "name": "stdout",
          "text": [
            "Metrics - Linear Regression (No Regularisation):\n",
            "\tMSE: 0.005200215496311308\n",
            "\tR²: 0.6910288907914793\n",
            "\n",
            "Metrics - Lasso Regression (alpha = 0.00248):\n",
            "\tMSE: 0.0051355899624000775\n",
            "\tR²: 0.694868620685348\n",
            "\n",
            "Metrics - Ridge Regression (alpha = 10.72):\n",
            "\tMSE: 0.00509030956856604\n",
            "\tR²: 0.6975589579450683\n"
          ]
        }
      ],
      "metadata": {}
    },
    {
      "cell_type": "markdown",
      "source": [],
      "metadata": {}
    },
    {
      "cell_type": "markdown",
      "source": [
        "***\n",
        "\n",
        "## 7\n",
        "\n",
        "(**5 pts**) Train the 3 models and report the metrics with the original data without scaling (3pts). \n",
        "\n",
        "Why do we need to scale the data before regularization (2pts)? \n",
        "\n",
        "## Answer:\n"
      ],
      "metadata": {
        "id": "pKq1KERxJw9y"
      }
    },
    {
      "cell_type": "code",
      "execution_count": 25,
      "source": [
        "from sklearn.metrics import r2_score\n",
        "\n",
        "# Linear Regression without Regularisation\n",
        "lm = linear_model.LinearRegression()\n",
        "lm.fit(X_train,y_train)\n",
        "pred = lm.predict(X_test)\n",
        "lm_mse = mean_squared_error(pred, y_test)\n",
        "lm_r2 = r2_score(y_test, pred)\n",
        "\n",
        "print(\"Metrics - Linear Regression (No Regularisation):\")\n",
        "print(\"\\tMSE:\", lm_mse)\n",
        "print(\"\\tR\\u00b2:\", lm_r2)\n",
        "\n",
        "# Lasso Regression\n",
        "lasso_mdl = linear_model.Lasso(alpha=lasso_alpha)\n",
        "lasso_mdl.fit(X_train,y_train)\n",
        "pred = lasso_mdl.predict(X_test)\n",
        "lasso_mse = mean_squared_error(pred, y_test)\n",
        "lasso_r2 = r2_score(y_test, pred)\n",
        "\n",
        "\n",
        "print(\"\\nMetrics - Lasso Regression (alpha = {alp}):\".format(alp = lasso_alpha.round(5)))\n",
        "print(\"\\tMSE:\", lasso_mse)\n",
        "print(\"\\tR\\u00b2:\", lasso_r2)\n",
        "\n",
        "# Ridge Regression\n",
        "ridge_mdl = linear_model.Ridge(alpha=ridge_alpha)\n",
        "ridge_mdl.fit(X_train,y_train)\n",
        "pred = ridge_mdl.predict(X_test)\n",
        "ridge_mse = mean_squared_error(pred, y_test)\n",
        "ridge_r2 = r2_score(y_test, pred)\n",
        "\n",
        "\n",
        "print(\"\\nMetrics - Ridge Regression (alpha = {alp}):\".format(alp = ridge_alpha.round(2)))\n",
        "print(\"\\tMSE:\", ridge_mse)\n",
        "print(\"\\tR\\u00b2:\", ridge_r2)\n"
      ],
      "outputs": [
        {
          "output_type": "stream",
          "name": "stdout",
          "text": [
            "Metrics - Linear Regression (No Regularisation):\n",
            "\tMSE: 0.004526319242200032\n",
            "\tR²: 0.731068476318641\n",
            "\n",
            "Metrics - Lasso Regression (alpha = 0.00248):\n",
            "\tMSE: 0.004698656575543514\n",
            "\tR²: 0.720829043533799\n",
            "\n",
            "Metrics - Ridge Regression (alpha = 10.72):\n",
            "\tMSE: 0.004559248936717891\n",
            "\tR²: 0.7291119565843536\n"
          ]
        }
      ],
      "metadata": {}
    },
    {
      "cell_type": "markdown",
      "source": [
        "# WHY DO WE NEED TO SCALE?\n",
        "***\n",
        "***"
      ],
      "metadata": {}
    }
  ]
}