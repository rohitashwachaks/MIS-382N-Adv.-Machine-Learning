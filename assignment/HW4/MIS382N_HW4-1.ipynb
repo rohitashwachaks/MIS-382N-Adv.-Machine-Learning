{
 "cells": [
  {
   "cell_type": "markdown",
   "metadata": {
    "id": "8R_k_q-xlwE7"
   },
   "source": [
    "# <p style=\"text-align: center;\">MIS 382N: Advanced Machine Learning</p>\n",
    "# <p style=\"text-align: center;\">Homework 4</p>\n",
    "### <p style=\"text-align: center;\">Total points: 55 </p>\n",
    "## <p style=\"text-align: center;\">Due: Wed, **Nov, 3rd** submitted via Canvas by 11:59 pm</p>\n",
    "\n",
    "Your homework should be written in a **Jupyter notebook**. Please make sure your code runs and the graphics (and anything else) are displayed in your notebook before submitting (%matplotlib inline). \n",
    "\n",
    "**Note: Notebooks MUST have the images embedded in them. There will be no regrades if attached images do not render in the notebook. Please re download from canvas after submission and make sure all attached images render without errors. (Hint: Image module from IPython.display)**"
   ]
  },
  {
   "cell_type": "markdown",
   "metadata": {
    "id": "K62r4Kaoly_t"
   },
   "source": [
    "**This can be an individual assignment or group of 2. If you choose to do it as a group, please specify who you are working with (name and EID), then only one student should submit the homework. Put your name and eid here.**\n",
    "\n",
    "**Name: Rohitashwa Chakraborty <br>\n",
    "EID: rc47878**\n",
    "\n",
    "**Name: Sahitya Sundar Raj Vijayanagar <br>\n",
    "EID: sv25849**"
   ]
  },
  {
   "cell_type": "code",
   "execution_count": 1,
   "metadata": {},
   "outputs": [],
   "source": [
    "import warnings\n",
    "warnings.filterwarnings('ignore')"
   ]
  },
  {
   "cell_type": "markdown",
   "metadata": {
    "id": "dJFRr3e-J9lr"
   },
   "source": [
    "# Question 1: Reject option (10 pts)\n",
    "\n",
    "Consider a binary classification problem with the following loss matrix, where the cost of rejection is a constant. \n",
    "\n",
    "$$\n",
    "   {\\begin{array}{ccccc}\n",
    "   & & \\text{Predicted class} & \\text{           } &\\\\\n",
    "   & & C_1 & C_2 & Reject\\\\\n",
    "   \\text{True class} & C_1 & 0 & 2 & c  \\\\\n",
    "   & C_2 & 4 & 0 & c \\\\\n",
    "  \\end{array} } \n",
    "$$\n",
    "\n",
    "If $c$ = 1, determine the respective predicted classes that will minimize the expected loss when $P(C_1|x)$ falls in different value intervals. That is, please give the decision rules for $C_1$, $C_2$ and $Reject$."
   ]
  },
  {
   "cell_type": "markdown",
   "metadata": {
    "id": "p3dMm-ADQ9sr"
   },
   "source": [
    "## Answer:\n",
    "\n",
    "$$\n",
    "   {\\begin{array}{ccccc}\n",
    "   & & \\text{Predicted class} & \\text{           } &\\\\\n",
    "   & & C_1 & C_2 & Reject\\\\\n",
    "   \\text{True class} & C_1 & 0(TP) & 2(FN) & 1  \\\\\n",
    "   & C_2 & 4(FP) & 0(TN) & 1 \\\\\n",
    "  \\end{array} } \n",
    "$$"
   ]
  },
  {
   "cell_type": "markdown",
   "metadata": {},
   "source": [
    "If we consider $P(C_1|x)$ as $f(x)$, then $P(C_2|x)$ is $1-f(x)$.\n",
    "\n",
    "Cost of assigning to class 1: $0f(x) + 4(1-f(x)) = 4 - 4f(x)$ <br>\n",
    "Cost of assigning to class 2: $2f(x) + 0(1-f(x)) = 2f(x)$ <br>\n",
    "Cost of rejecting : $1f(x) + 1(1-f(x)) = f(x) + 1 - f(x) = 1$ <br>\n",
    "\n",
    "$\\textbf{Classify to C1, if}$<br>\n",
    "$\\Rightarrow 4 - 4f(x) < 1$<br>\n",
    "$\\Rightarrow f(x) > 3/4$<br>\n",
    "<!-- $\\Rightarrow x > f^{-1}(3/4)$<br> -->\n",
    "$\\textbf{Reject, otherwise}$<br>\n",
    "\n",
    "\n",
    "$\\textbf{Classify to C2, if}$<br>\n",
    "$\\Rightarrow 2f(x) < 1$<br>\n",
    "$\\Rightarrow f(x) < 1/2$<br>\n",
    "<!-- $\\Rightarrow x < f^{-1}(1/2)$<br> -->\n",
    "$\\textbf{Reject, otherwise}$<br>\n",
    "\n",
    "<!-- $\\textbf{Hence, the decision rules are:}$<br>\n",
    "$\\textrm{If } x > f^{-1}(0.75) \\textrm{, classify as C1}$<br>\n",
    "$\\textrm{If } x < f^{-1}(0.5) \\textrm{, classify as C2}$<br>\n",
    "$\\textrm{If } f^{-1}(0.5) < x < f^{-1}(0.75) \\textrm{Reject}$<br> -->\n",
    "\n",
    "$\\textbf{Hence, the decision rules are:}$<br>\n",
    "$\\textrm{If: } P(C_1|x) > (0.75), \\quad\\quad\\quad \\textrm{classify as C1}$<br>\n",
    "$\\textrm{If: } P(C_1|x) < (0.5), \\quad\\quad\\quad \\textrm{classify as C2}$<br>\n",
    "$\\textrm{If: } 0.5 < P(C_1|x) < 0.75, \\quad \\textrm{Reject}$<br>"
   ]
  },
  {
   "cell_type": "markdown",
   "metadata": {
    "id": "PXZOdsIClzeq"
   },
   "source": [
    "# Question 2: Logistic Regression (15 pts) \n",
    "\n",
    "Logistic regression has been traditionally used to classify data when a **linear decision boundary** is adequate. However, having an idea of what the distribution looks like could help one come up with a smart data transformation trick that could make the optimal decision boundary become (near) linear in the transformed space. In this question, you are given 2-dimensional data, and each data point belongs to either class 0 or class 1. \n",
    "\n",
    "a) **(5 pts)** Train a logistic regression classifier using X_train, y_train. Use the trained model to make predictions on X_train, X_test respectively, and then report the accuracies and F1-scores. Sklearn has a very nice [utility](https://scikit-learn.org/stable/modules/generated/sklearn.metrics.classification_report.html) that helps compute the precision, recall, accuracy and F1-scores. \n",
    "\n",
    "b) **(5 pts)** Plot the X_train data using matplotlib, use different colors to represent different classes. Comment on the pattern of data distributions, and reason why the logistic regression classifier in (a) does not perform very well.  \n",
    "\n",
    "c) **(5 pts)** Transform the input X_train and X_test data in such a way that a linear decision boundary will be effective. Train a new logistic regression classifier on this transformed X_train data. Use the trained model to make predictions on transformed X_train, transformed X_test respectively, and then report the accuracies and F1-scores. \n",
    "\n",
    "**Hint**: Carefully analyze the plot you made in (b), observe the decision boundaries, which should guide you towards the right direction."
   ]
  },
  {
   "cell_type": "markdown",
   "metadata": {
    "id": "8Pcj3TgwnCpr"
   },
   "source": [
    "## Answer:"
   ]
  },
  {
   "cell_type": "code",
   "execution_count": 2,
   "metadata": {
    "id": "O1T7hgXEnADb"
   },
   "outputs": [
    {
     "name": "stdout",
     "output_type": "stream",
     "text": [
      "Train:  (300, 2)\n",
      "Test:  (100, 2)\n"
     ]
    }
   ],
   "source": [
    "import numpy as np\n",
    "import warnings\n",
    "warnings.filterwarnings('ignore')\n",
    "\n",
    "x1 = np.random.uniform(low=-7.5, high=7.5, size=300)\n",
    "x2 = np.random.uniform(low=-7.5, high=7.5, size=300)\n",
    "\n",
    "y_fn = (0.3*x1**2 + 0.8*x2**2) <10\n",
    "\n",
    "from matplotlib import pyplot as plt\n",
    "\n",
    "X_train = np.column_stack([x1, x2])\n",
    "y_train = y_fn\n",
    "print(\"Train: \", X_train.shape)\n",
    "\n",
    "x1 = np.random.uniform(low=-7.5, high=7.5, size=100)\n",
    "x2 = np.random.uniform(low=-7.5, high=7.5, size=100)\n",
    "y_fn = (0.3*x1**2 + 0.8*x2**2) <10\n",
    "\n",
    "X_test = np.column_stack([x1, x2])\n",
    "y_test = y_fn\n",
    "print(\"Test: \", X_test.shape)\n",
    "\n",
    "X_train = X_train + np.random.random(size=X_train.shape)/10\n",
    "X_test = X_test + np.random.random(size=X_test.shape)/10"
   ]
  },
  {
   "cell_type": "code",
   "execution_count": 3,
   "metadata": {},
   "outputs": [],
   "source": [
    "from sklearn.linear_model import LogisticRegression\n",
    "\n",
    "model = LogisticRegression()\n",
    "model.fit(X_train, y_train)\n",
    "y_pred_test = model.predict(X_test)\n",
    "y_pred_train = model.predict(X_train)\n",
    "\n",
    "# import the metrics class\n",
    "from sklearn import metrics\n",
    "cnf_matrix_train = metrics.confusion_matrix(y_train, y_pred_train)\n",
    "cnf_matrix_test = metrics.confusion_matrix(y_test, y_pred_test)"
   ]
  },
  {
   "cell_type": "code",
   "execution_count": 4,
   "metadata": {},
   "outputs": [
    {
     "data": {
      "image/png": "[encoded data removed]",
      "text/plain": [
       "<Figure size 1080x720 with 2 Axes>"
      ]
     },
     "metadata": {
      "needs_background": "light"
     },
     "output_type": "display_data"
    }
   ],
   "source": [
    "fig, ax = plt.subplots(1,2, sharex= False, sharey=False)\n",
    "fig.set_size_inches(15, 10,  forward=True)\n",
    "tick_marks = np.arange(2)\n",
    "plt.suptitle(\"Confusion Matrix\", size = 25)\n",
    "\n",
    "ax[0].imshow(cnf_matrix_train, interpolation='nearest', cmap='Pastel1')\n",
    "ax[0].set_title('Train Set', size = 20)\n",
    "\n",
    "ax[1].imshow(cnf_matrix_test, interpolation='nearest', cmap='Pastel1')\n",
    "ax[1].set_title('Test Set', size = 20)\n",
    "\n",
    "ax[0].set_xticks(tick_marks)\n",
    "ax[0].set_yticks(tick_marks)\n",
    "\n",
    "ax[1].set_xticks(tick_marks)\n",
    "ax[1].set_yticks(tick_marks)\n",
    "\n",
    "ax[0].set_ylabel('Actual label', size = 15)\n",
    "ax[0].set_xlabel('Predicted label', size = 15)\n",
    "\n",
    "ax[1].set_ylabel('Actual label', size = 15)\n",
    "ax[1].set_xlabel('Predicted label', size = 15)\n",
    "\n",
    "width, height = cnf_matrix_train.shape\n",
    "for x in range(width):\n",
    "    for y in range(height):\n",
    "        ax[0].annotate(str(cnf_matrix_train[x][y]), xy=(y, x), horizontalalignment='center', verticalalignment='center')\n",
    "        ax[1].annotate(str(cnf_matrix_test[x][y]), xy=(y, x), horizontalalignment='center', verticalalignment='center')\n",
    "\n",
    "fig.tight_layout()"
   ]
  },
  {
   "cell_type": "code",
   "execution_count": 5,
   "metadata": {},
   "outputs": [
    {
     "name": "stdout",
     "output_type": "stream",
     "text": [
      "Classification Report for Train Set:\n",
      "              precision    recall  f1-score   support\n",
      "\n",
      "       False       0.73      1.00      0.85       220\n",
      "        True       0.00      0.00      0.00        80\n",
      "\n",
      "    accuracy                           0.73       300\n",
      "   macro avg       0.37      0.50      0.42       300\n",
      "weighted avg       0.54      0.73      0.62       300\n",
      "\n",
      "\n",
      "\n",
      "Classification Report for Test Set:\n",
      "              precision    recall  f1-score   support\n",
      "\n",
      "       False       0.74      1.00      0.85        74\n",
      "        True       0.00      0.00      0.00        26\n",
      "\n",
      "    accuracy                           0.74       100\n",
      "   macro avg       0.37      0.50      0.43       100\n",
      "weighted avg       0.55      0.74      0.63       100\n",
      "\n"
     ]
    }
   ],
   "source": [
    "from sklearn.metrics import classification_report\n",
    "\n",
    "print('Classification Report for Train Set:')\n",
    "print(classification_report(y_train, y_pred_train))\n",
    "\n",
    "print('\\n\\nClassification Report for Test Set:')\n",
    "print(classification_report(y_test, y_pred_test))"
   ]
  },
  {
   "cell_type": "code",
   "execution_count": 6,
   "metadata": {},
   "outputs": [
    {
     "data": {
      "text/plain": [
       "Text(0.5, 1.0, 'Scatter Plot of Training Set')"
      ]
     },
     "execution_count": 6,
     "metadata": {},
     "output_type": "execute_result"
    },
    {
     "data": {
      "image/png": "[encoded data removed]",
      "text/plain": [
       "<Figure size 432x288 with 1 Axes>"
      ]
     },
     "metadata": {
      "needs_background": "light"
     },
     "output_type": "display_data"
    }
   ],
   "source": [
    "plt.scatter(X_train[y_train][:,0],X_train[y_train][:,1])\n",
    "plt.scatter(X_train[~y_train][:,0],X_train[~y_train][:,1])\n",
    "plt.title('Scatter Plot of Training Set')"
   ]
  },
  {
   "cell_type": "markdown",
   "metadata": {},
   "source": [
    "### INFERENCE:\n",
    "\n",
    "The scatter plot created above of the datapoints for the two classes gives an idea of the decision boundary that can be created to ensure that the model performs well. As shown, the decision boundary is not linear, and since Logistic Regression performs best on a linear decision boundary between data points, the model built in part a) does not perform well and classifies all data points as Class 0 or False."
   ]
  },
  {
   "cell_type": "markdown",
   "metadata": {},
   "source": [
    "### PART C\n",
    "\n",
    "In order to enable logistic regression to perform better, the data needs to be transformed into a linear boundary. As the original scatter plot shows, the decision boundary is circular/elliptical. Hence, the data points are being transformed into their squares i.e. $x_1^2$ and $x_2^2$. As shown in the scatter plot for the transformed data below, the deicision boundary is mostly linear, this will enable logistic regression to perform better."
   ]
  },
  {
   "cell_type": "code",
   "execution_count": 7,
   "metadata": {},
   "outputs": [
    {
     "data": {
      "text/plain": [
       "Text(0.5, 1.0, 'Scatter plot of transformed data points')"
      ]
     },
     "execution_count": 7,
     "metadata": {},
     "output_type": "execute_result"
    },
    {
     "data": {
      "image/png": "[encoded data removed]",
      "text/plain": [
       "<Figure size 432x288 with 1 Axes>"
      ]
     },
     "metadata": {
      "needs_background": "light"
     },
     "output_type": "display_data"
    }
   ],
   "source": [
    "plt.scatter(X_train[y_train][:,0]**2,X_train[y_train][:,1]**2)\n",
    "plt.scatter(X_train[~y_train][:,0]**2,X_train[~y_train][:,1]**2)\n",
    "plt.title('Scatter plot of transformed data points')"
   ]
  },
  {
   "cell_type": "code",
   "execution_count": 22,
   "metadata": {},
   "outputs": [
    {
     "data": {
      "image/png": "[encoded data removed]",
      "text/plain": [
       "<Figure size 1080x720 with 3 Axes>"
      ]
     },
     "metadata": {
      "needs_background": "light"
     },
     "output_type": "display_data"
    }
   ],
   "source": [
    "fig, ax = plt.subplots(1,2, sharex= False, sharey=False)\n",
    "fig.set_size_inches(15, 10,  forward=True)\n",
    "tick_marks = np.arange(2)\n",
    "plt.suptitle(\"Confusion Matrix\", size = 25)\n",
    "\n",
    "ax[0].imshow(cnf_matrix_train, interpolation='nearest', cmap='Pastel1')\n",
    "ax[0].set_title('Train Set', size = 20)\n",
    "\n",
    "ax[1].imshow(cnf_matrix_test, interpolation='nearest', cmap='Pastel1')\n",
    "ax[1].set_title('Test Set', size = 20)\n",
    "\n",
    "ax[0].set_xticks(tick_marks)\n",
    "ax[0].set_yticks(tick_marks)\n",
    "\n",
    "ax[1].set_xticks(tick_marks)\n",
    "ax[1].set_yticks(tick_marks)\n",
    "\n",
    "ax[0].set_ylabel('Actual label', size = 15)\n",
    "ax[0].set_xlabel('Predicted label', size = 15)\n",
    "\n",
    "ax[1].set_ylabel('Actual label', size = 15)\n",
    "ax[1].set_xlabel('Predicted label', size = 15)\n",
    "\n",
    "width, height = cnf_matrix_train.shape\n",
    "for x in range(width):\n",
    "    for y in range(height):\n",
    "        ax[0].annotate(str(cnf_matrix_train[x][y]), xy=(y, x), horizontalalignment='center', verticalalignment='center')\n",
    "        ax[1].annotate(str(cnf_matrix_test[x][y]), xy=(y, x), horizontalalignment='center', verticalalignment='center')\n",
    "\n",
    "fig.tight_layout()"
   ]
  },
  {
   "cell_type": "code",
   "execution_count": 10,
   "metadata": {},
   "outputs": [
    {
     "name": "stdout",
     "output_type": "stream",
     "text": [
      "Classification Report for Train Set:\n",
      "              precision    recall  f1-score   support\n",
      "\n",
      "       False       1.00      1.00      1.00       220\n",
      "        True       0.99      0.99      0.99        80\n",
      "\n",
      "    accuracy                           0.99       300\n",
      "   macro avg       0.99      0.99      0.99       300\n",
      "weighted avg       0.99      0.99      0.99       300\n",
      "\n",
      "\n",
      "\n",
      "Classification Report for Test Set:\n",
      "              precision    recall  f1-score   support\n",
      "\n",
      "       False       0.99      1.00      0.99        74\n",
      "        True       1.00      0.96      0.98        26\n",
      "\n",
      "    accuracy                           0.99       100\n",
      "   macro avg       0.99      0.98      0.99       100\n",
      "weighted avg       0.99      0.99      0.99       100\n",
      "\n"
     ]
    }
   ],
   "source": [
    "from sklearn.metrics import classification_report\n",
    "\n",
    "print('Classification Report for Train Set:')\n",
    "print(classification_report(y_train, y_pred_train))\n",
    "\n",
    "print('\\n\\nClassification Report for Test Set:')\n",
    "print(classification_report(y_test, y_pred_test))"
   ]
  },
  {
   "cell_type": "markdown",
   "metadata": {
    "id": "3kuJ3AByMTpI"
   },
   "source": [
    "# Question 3: Bayesian Network (5 pts)\n",
    "\n",
    "A Bayesian network is a directed acyclic graph (DAG) that captures a subset of the independence relationships of a given joint probability distribution. \n",
    "\n",
    "In a Bayesian network $G=(V,E)$, each node $i \\in V$in the directed graph corresponds to a random variable and each directed edge $e \\in E$ represents a statistical dependence. Each node is associated with a conditional probability distribution of the corresponding random variables given its parents in the DAG. The joint probability distribution factorizes w.r.t the directed graph $G$ if $p(x_1, ..., x_n)=\\prod_{i \\in V} p(x_i | x_{parents(i)})$, provided the variables are visited in a topologically sorted order. Please write the joint probability distribution that factorizes w.r.t this graph, in as simple a form as possible (i.e. that results in the smallest possible conditional probability tables:\n"
   ]
  },
  {
   "cell_type": "code",
   "execution_count": 11,
   "metadata": {
    "colab": {
     "base_uri": "https://localhost:8080/",
     "height": 505
    },
    "id": "sfd86n0uP0dp",
    "outputId": "6cad03b4-86b3-4912-84df-dc378b00cbbb"
   },
   "outputs": [
    {
     "data": {
      "text/html": [
       "<iframe src=\"https://drive.google.com/file/d/1XigbvsWpNvlols3QarVjDfYf2Dnf3emy/preview\" width=\"640\" height=\"480\" allow=\"autoplay\"></iframe>\n"
      ],
      "text/plain": [
       "<IPython.core.display.HTML object>"
      ]
     },
     "metadata": {},
     "output_type": "display_data"
    }
   ],
   "source": [
    "%%html\n",
    "<iframe src=\"https://drive.google.com/file/d/1XigbvsWpNvlols3QarVjDfYf2Dnf3emy/preview\" width=\"640\" height=\"480\" allow=\"autoplay\"></iframe>"
   ]
  },
  {
   "cell_type": "markdown",
   "metadata": {
    "id": "_kUqyveiP6zV"
   },
   "source": [
    "## Answer:\n"
   ]
  },
  {
   "cell_type": "markdown",
   "metadata": {},
   "source": [
    "$$p(A,B,C,D,E,F)= p(A)*p(B|A)*p(C|E,A)*p(D|B)*p(E|B)*p(F|C,D,E)$$"
   ]
  },
  {
   "cell_type": "markdown",
   "metadata": {},
   "source": [
    "# Question 4: Counterfactuals (25 pts)\n",
    "\n",
    "To show the effectiveness of a newly proposed model, one needs to compare it with multiple  existing solutions, across multiple datasets with different properties, and typically using multiple evaluation metrics. \n",
    "\n",
    "One of the emerging requirements in industry is to be able to explain decisions, and counterfactual (CF) explanations turn out to be a lead contender. Hence a new CF approach also needs to be evaluated comprehensively. See [1] for a review on conterfactual explanations. \n",
    "\n",
    "An example of a short comparative testing for CFs is given in [2], (you don’t need to understand the method in [2] since I have not covered this type of techinques in class, just see the result tables). The goal of this question is to **try to obtain results that are similar to those reported in [2]** (note that they give details of their model settings in the appendix). In particular, you will evaluate the following datasets: Breast Cancer, Pima diabetes and Adult Census across 5 metrics (Validity, sparsity, proximity, diversity, in-distributionness). \n",
    "\n",
    "**Note**: **Section A** students only need to report on the **Breat Cancer and Adult Census datasets** while **Section B** students only need to report results on the **Pima diabetes and Adult Census datasets**.\n",
    "\n",
    "[1] Verma, Dickerson, Hines. Counterfactual Explanations for Machine Learning: A Review. [arXiv:2010.10596](https://arxiv.org/abs/2010.10596) (2020) \n",
    "\n",
    "[2] Samoilescu, et al. Model-agnostic and Scalable Counterfactual Explanations via Reinforcement Learning.  [arXiv:2106.02597](https://arxiv.org/abs/2106.02597) (2021) \n",
    "\n",
    "\n",
    "a) Train **Random Forest, MLP and Logistic Regression** models on your datasets and report the accuracies on each of the datasets, show the accuracy on both the training and test set in a table.\n",
    "\n",
    "Use the code snippets given below to load the datasets and make the split using the following code snippet: ```X_train, X_test, y_train, y_test = train_test_split(X, y, test_size=0.33, random_state=42)``` \n",
    "\n",
    "```\n",
    "# Breast cancer dataset, for Section A only\n",
    "from sklearn.datasets import load_breast_cancer\n",
    "\n",
    "data = load_breast_cancer()\n",
    "X = data.data\n",
    "y = data.target\n",
    "cols = ['mean radius', 'mean texture', 'mean perimeter', 'mean area',\n",
    "        'mean smoothness', 'mean compactness', 'mean concavity',\n",
    "        'mean concave points', 'mean symmetry', 'mean fractal dimension',\n",
    "        'radius error', 'texture error', 'perimeter error', 'area error',\n",
    "        'smoothness error', 'compactness error', 'concavity error',\n",
    "        'concave points error', 'symmetry error',\n",
    "        'fractal dimension error', 'worst radius', 'worst texture',\n",
    "        'worst perimeter', 'worst area', 'worst smoothness',\n",
    "        'worst compactness', 'worst concavity', 'worst concave points',\n",
    "        'worst symmetry', 'worst fractal dimension']\n",
    "X = pd.DataFrame(data=X, columns=cols)\n",
    "\n",
    "# Pima Diabetes dataset, for Section B only\n",
    "def load_diabetes():\n",
    "  df = pd.read_csv('diabetes.csv')\n",
    "  X = df.drop(['Outcome'], axis=1)\n",
    "  y = df[['Outcome']]\n",
    "  return X, np.reshape(y, (-1, ))\n",
    "\n",
    "X, y = load_diabetes()\n",
    "\n",
    "# adult census dataset, for Section A and Section B\n",
    "def load_adult():\n",
    "  df = pd.read_csv('adult.csv')\n",
    "  df = pd.get_dummies(df)\n",
    "  X = df.drop(['target'], axis=1)\n",
    "  y = df[['target']]\n",
    "  return X, np.reshape(y, (-1, ))\n",
    "\n",
    "X, y = load_adult()\n",
    "```\n",
    "b) For each of the datasets, plot the calibration curves for the entire dataset. The [module](https://scikit-learn.org/stable/modules/calibration.html) from sklearn should help.\n",
    "\n",
    "For each dataset, the calibration curve should show a y=x line as the perfect calibration, as well as the calibration curves for each of the model predictions. Mark the plots correctly using a legend.\n",
    "\n",
    "c) [DiCE](https://github.com/interpretml/DiCE) is an open-source library that is based on the paper [Explaining Machine Learning Classifiers through Diverse Counterfactual Explanations](https://arxiv.org/abs/1905.07697). The codebase has 3 methods in which they generate counterfactuals - random sampling, KD-tree and genetic algorithm. Use DiCE (random) and DiCE (genetic) to generate 5 counterfactuals each for the first 50 data point in the test set for each of the models. Report the following metrics for each of the datasets and each of the models. So essentially, you will need to create a table for each dataset where the metrics are present in the columns and each row represents a different model. \n",
    "\n",
    "Here are some pointers that will help you get started with DiCE and the metrics needed. \n",
    "- Install the library using ```!pip install dice-ml```\n",
    "- They have an excellent documentation on their GitHub, and their implementation notebooks will be very helpful. You can check [this](https://github.com/interpretml/DiCE/blob/master/docs/source/notebooks/DiCE_model_agnostic_CFs.ipynb) to get started.\n",
    "- Section 4.1 in the [DiCE paper](https://arxiv.org/pdf/1905.07697.pdf) discuss and mathematically formulate validity, sparsity, diversity and proximity. Read those carefully and implement functions that can evaluate the metrics. Use the ```Continuous-Proximity``` metric just for simplicity. Use the ```Diversity``` metric and not ```Count-Diversity```.\n",
    "- For the in-distributionness, use the following code snippet to evaluate the MMD (maximum mean discrepancy) score.\n",
    "\n",
    "```\n",
    "def get_mmd_rbf(X, Y, gamma=1.0):\n",
    "    \"\"\"MMD using rbf (gaussian) kernel (i.e., k(x,y) = exp(-gamma * ||x-y||^2 / 2))\n",
    "    Arguments:\n",
    "        X {[n_sample1, dim]} -- [X matrix]\n",
    "        Y {[n_sample2, dim]} -- [Y matrix]\n",
    "    Keyword Arguments:\n",
    "        gamma {float} -- [kernel parameter] (default: {1.0})\n",
    "    Returns:\n",
    "        [scalar] -- [MMD value]\n",
    "    \"\"\"\n",
    "    XX = metrics.pairwise.rbf_kernel(X, X, gamma)\n",
    "    YY = metrics.pairwise.rbf_kernel(Y, Y, gamma)\n",
    "    XY = metrics.pairwise.rbf_kernel(X, Y, gamma)\n",
    "    return XX.mean() + YY.mean() - 2 * XY.mean()\n",
    "```\n"
   ]
  },
  {
   "cell_type": "markdown",
   "metadata": {
    "id": "gcLazqf-DLkq"
   },
   "source": [
    "## Answer:"
   ]
  },
  {
   "cell_type": "markdown",
   "metadata": {},
   "source": [
    "## Part a)"
   ]
  },
  {
   "cell_type": "markdown",
   "metadata": {},
   "source": [
    "### Random Forest Classifier"
   ]
  },
  {
   "cell_type": "code",
   "execution_count": 12,
   "metadata": {},
   "outputs": [],
   "source": [
    "from sklearn.ensemble import RandomForestClassifier\n",
    "\n",
    "def random_forest(X_train, X_test, y_train, y_test):\n",
    "    rfc_model = RandomForestClassifier(max_depth=3, random_state=0)\n",
    "    rfc_model.fit(X_train, y_train)\n",
    "\n",
    "    y_pred_test = rfc_model.predict(X_test)\n",
    "    y_pred_train = rfc_model.predict(X_train)\n",
    "\n",
    "    rfc_test_acc = round(rfc_model.score(X_test, y_test),3)\n",
    "    rfc_train_acc = round(rfc_model.score(X_train, y_train),3)\n",
    "\n",
    "    return rfc_train_acc, rfc_test_acc, rfc_model"
   ]
  },
  {
   "cell_type": "markdown",
   "metadata": {},
   "source": [
    "### MLP"
   ]
  },
  {
   "cell_type": "code",
   "execution_count": 13,
   "metadata": {},
   "outputs": [],
   "source": [
    "from sklearn.neural_network import MLPClassifier\n",
    "\n",
    "def ml_perc(X_train, X_test, y_train, y_test):\n",
    "    mlp_model = MLPClassifier(random_state=1, max_iter=1000).fit(X_train, y_train)\n",
    "    y_pred_test = mlp_model.predict(X_test)\n",
    "    y_pred_train = mlp_model.predict(X_train)\n",
    "\n",
    "    mlp_test_acc = round(mlp_model.score(X_test, y_test),3)\n",
    "    mlp_train_acc = round(mlp_model.score(X_train, y_train),3)\n",
    "\n",
    "    return mlp_train_acc, mlp_test_acc, mlp_model"
   ]
  },
  {
   "cell_type": "markdown",
   "metadata": {},
   "source": [
    "### Logistic Regression"
   ]
  },
  {
   "cell_type": "code",
   "execution_count": 14,
   "metadata": {},
   "outputs": [],
   "source": [
    "from sklearn.linear_model import LogisticRegression\n",
    "\n",
    "def logistic_reg(X_train, X_test, y_train, y_test):\n",
    "    lr_model = LogisticRegression()\n",
    "    lr_model.fit(X_train, y_train)\n",
    "    y_pred_test = lr_model.predict(X_test)\n",
    "    y_pred_train = lr_model.predict(X_train)\n",
    "\n",
    "    lr_test_acc = round(lr_model.score(X_test, y_test),3)\n",
    "    lr_train_acc = round(lr_model.score(X_train, y_train),3)\n",
    "\n",
    "    return lr_train_acc, lr_test_acc, lr_model"
   ]
  },
  {
   "cell_type": "markdown",
   "metadata": {},
   "source": [
    "### Accuracy"
   ]
  },
  {
   "cell_type": "code",
   "execution_count": 15,
   "metadata": {},
   "outputs": [],
   "source": [
    "def accuracy(test_acc, train_acc):\n",
    "    accuracy_table = pd.DataFrame(columns = ['Train Accuracy','Test Accuracy'], index=['Random Forest Classifier','Multi-layer Perceptron Classifier','Logistic Regression Classfier'])\n",
    "    accuracy_table['Train Accuracy'] = train_acc\n",
    "    accuracy_table['Test Accuracy'] = test_acc\n",
    "\n",
    "    return accuracy_table"
   ]
  },
  {
   "cell_type": "markdown",
   "metadata": {},
   "source": [
    "### PIMA Diabetes"
   ]
  },
  {
   "cell_type": "code",
   "execution_count": 16,
   "metadata": {},
   "outputs": [
    {
     "data": {
      "text/html": [
       "<div>\n",
       "<style scoped>\n",
       "    .dataframe tbody tr th:only-of-type {\n",
       "        vertical-align: middle;\n",
       "    }\n",
       "\n",
       "    .dataframe tbody tr th {\n",
       "        vertical-align: top;\n",
       "    }\n",
       "\n",
       "    .dataframe thead th {\n",
       "        text-align: right;\n",
       "    }\n",
       "</style>\n",
       "<table border=\"1\" class=\"dataframe\">\n",
       "  <thead>\n",
       "    <tr style=\"text-align: right;\">\n",
       "      <th></th>\n",
       "      <th>Train Accuracy</th>\n",
       "      <th>Test Accuracy</th>\n",
       "    </tr>\n",
       "  </thead>\n",
       "  <tbody>\n",
       "    <tr>\n",
       "      <th>Random Forest Classifier</th>\n",
       "      <td>0.809</td>\n",
       "      <td>0.744</td>\n",
       "    </tr>\n",
       "    <tr>\n",
       "      <th>Multi-layer Perceptron Classifier</th>\n",
       "      <td>0.768</td>\n",
       "      <td>0.736</td>\n",
       "    </tr>\n",
       "    <tr>\n",
       "      <th>Logistic Regression Classfier</th>\n",
       "      <td>0.780</td>\n",
       "      <td>0.748</td>\n",
       "    </tr>\n",
       "  </tbody>\n",
       "</table>\n",
       "</div>"
      ],
      "text/plain": [
       "                                   Train Accuracy  Test Accuracy\n",
       "Random Forest Classifier                    0.809          0.744\n",
       "Multi-layer Perceptron Classifier           0.768          0.736\n",
       "Logistic Regression Classfier               0.780          0.748"
      ]
     },
     "execution_count": 16,
     "metadata": {},
     "output_type": "execute_result"
    }
   ],
   "source": [
    "import pandas as pd\n",
    "import numpy as np\n",
    "from sklearn.model_selection import train_test_split\n",
    "\n",
    "# Pima Diabetes dataset, for Section B only\n",
    "def load_diabetes():\n",
    "    df = pd.read_csv('diabetes.csv')\n",
    "    X = df.drop(['Outcome'], axis=1)\n",
    "    y = df[['Outcome']]\n",
    "    return X, np.reshape(y, (-1, ))\n",
    "\n",
    "X_pima, y_pima = load_diabetes()\n",
    "\n",
    "X_train_pima, X_test_pima, y_train_pima, y_test_pima = train_test_split(X_pima, y_pima, test_size=0.33, random_state=42)\n",
    "\n",
    "rfc_train_acc, rfc_test_acc, rfc_model_pima = random_forest(X_train_pima, X_test_pima, y_train_pima, y_test_pima )\n",
    "mlp_train_acc, mlp_test_acc, mlp_model_pima = ml_perc(X_train_pima, X_test_pima, y_train_pima, y_test_pima )\n",
    "lr_train_acc, lr_test_acc, lr_model_pima = logistic_reg(X_train_pima, X_test_pima, y_train_pima, y_test_pima )\n",
    "\n",
    "test_acc = [rfc_test_acc,mlp_test_acc,lr_test_acc]\n",
    "train_acc = [rfc_train_acc,mlp_train_acc,lr_train_acc]\n",
    "\n",
    "accuracy(test_acc, train_acc)"
   ]
  },
  {
   "cell_type": "markdown",
   "metadata": {},
   "source": [
    "### Adult Census Diabetes"
   ]
  },
  {
   "cell_type": "code",
   "execution_count": 17,
   "metadata": {},
   "outputs": [
    {
     "data": {
      "text/html": [
       "<div>\n",
       "<style scoped>\n",
       "    .dataframe tbody tr th:only-of-type {\n",
       "        vertical-align: middle;\n",
       "    }\n",
       "\n",
       "    .dataframe tbody tr th {\n",
       "        vertical-align: top;\n",
       "    }\n",
       "\n",
       "    .dataframe thead th {\n",
       "        text-align: right;\n",
       "    }\n",
       "</style>\n",
       "<table border=\"1\" class=\"dataframe\">\n",
       "  <thead>\n",
       "    <tr style=\"text-align: right;\">\n",
       "      <th></th>\n",
       "      <th>Train Accuracy</th>\n",
       "      <th>Test Accuracy</th>\n",
       "    </tr>\n",
       "  </thead>\n",
       "  <tbody>\n",
       "    <tr>\n",
       "      <th>Random Forest Classifier</th>\n",
       "      <td>0.820</td>\n",
       "      <td>0.821</td>\n",
       "    </tr>\n",
       "    <tr>\n",
       "      <th>Multi-layer Perceptron Classifier</th>\n",
       "      <td>0.798</td>\n",
       "      <td>0.798</td>\n",
       "    </tr>\n",
       "    <tr>\n",
       "      <th>Logistic Regression Classfier</th>\n",
       "      <td>0.787</td>\n",
       "      <td>0.786</td>\n",
       "    </tr>\n",
       "  </tbody>\n",
       "</table>\n",
       "</div>"
      ],
      "text/plain": [
       "                                   Train Accuracy  Test Accuracy\n",
       "Random Forest Classifier                    0.820          0.821\n",
       "Multi-layer Perceptron Classifier           0.798          0.798\n",
       "Logistic Regression Classfier               0.787          0.786"
      ]
     },
     "execution_count": 17,
     "metadata": {},
     "output_type": "execute_result"
    }
   ],
   "source": [
    "# adult census dataset, for Section A and Section B\n",
    "def load_adult():\n",
    "    df = pd.read_csv('adult.csv')\n",
    "    df = pd.get_dummies(df)\n",
    "    X = df.drop(['target'], axis=1)\n",
    "    y = df[['target']]\n",
    "    return X, np.reshape(y, (-1, ))\n",
    "\n",
    "X_adult, y_adult = load_adult()\n",
    "\n",
    "X_train_adult, X_test_adult, y_train_adult, y_test_adult = train_test_split(X_adult, y_adult, test_size=0.33, random_state=42)\n",
    "\n",
    "rfc_train_acc, rfc_test_acc, rfc_model_adult = random_forest(X_train_adult, X_test_adult, y_train_adult, y_test_adult)\n",
    "mlp_train_acc, mlp_test_acc, mlp_model_adult = ml_perc(X_train_adult, X_test_adult, y_train_adult, y_test_adult)\n",
    "lr_train_acc, lr_test_acc, lr_model_adult = logistic_reg(X_train_adult, X_test_adult, y_train_adult, y_test_adult)\n",
    "\n",
    "test_acc = [rfc_test_acc,mlp_test_acc,lr_test_acc]\n",
    "train_acc = [rfc_train_acc,mlp_train_acc,lr_train_acc]\n",
    "\n",
    "accuracy(test_acc, train_acc)"
   ]
  },
  {
   "cell_type": "markdown",
   "metadata": {},
   "source": [
    "## Part b)"
   ]
  },
  {
   "cell_type": "markdown",
   "metadata": {},
   "source": [
    "### Calibration Plot Function"
   ]
  },
  {
   "cell_type": "code",
   "execution_count": 18,
   "metadata": {},
   "outputs": [],
   "source": [
    "import matplotlib.pyplot as plt\n",
    "from matplotlib.gridspec import GridSpec\n",
    "\n",
    "from sklearn.calibration import CalibratedClassifierCV, CalibrationDisplay\n",
    "\n",
    "def calibration_curve(rfc_model, mlp_model, lr_model, title, X_train, X_test, y_train, y_test):\n",
    "\n",
    "    clf_list = [\n",
    "        (rfc_model, \"Random Forest\"),\n",
    "        (mlp_model, \"Multi Layer Perceptron\"),\n",
    "        (lr_model, \"Logistic Regression\")]\n",
    "\n",
    "    fig = plt.figure(figsize=(10, 10))\n",
    "    gs = GridSpec(4, 2)\n",
    "    colors = plt.cm.get_cmap(\"Dark2\")\n",
    "\n",
    "    ax_calibration_curve = fig.add_subplot(gs[:2, :2])\n",
    "    calibration_displays = {}\n",
    "    for i, (clf, name) in enumerate(clf_list):\n",
    "        clf.fit(X_train, y_train)\n",
    "        display = CalibrationDisplay.from_estimator(\n",
    "            clf,\n",
    "            X_test,\n",
    "            y_test,\n",
    "            n_bins=10,\n",
    "            name=name,\n",
    "            ax=ax_calibration_curve,\n",
    "            color=colors(i),\n",
    "        )\n",
    "        calibration_displays[name] = display\n",
    "\n",
    "    ax_calibration_curve.grid()\n",
    "    ax_calibration_curve.set_title(\"Calibration plots for \"+title, fontsize = 16)\n",
    "\n",
    "    # Add histogram\n",
    "    grid_positions = [(2, 0), (2, 1), (3, 0), (3, 1)]\n",
    "    for i, (_, name) in enumerate(clf_list):\n",
    "        row, col = grid_positions[i]\n",
    "        ax = fig.add_subplot(gs[row, col])\n",
    "\n",
    "        ax.hist(\n",
    "            calibration_displays[name].y_prob,\n",
    "            range=(0, 1),\n",
    "            bins=10,\n",
    "            label=name,\n",
    "            color=colors(i),\n",
    "        )\n",
    "        ax.set(title=name, xlabel=\"Mean predicted probability\", ylabel=\"Count\")\n",
    "\n",
    "    plt.tight_layout()\n",
    "    plt.show()\n",
    "    \n",
    "    return"
   ]
  },
  {
   "cell_type": "code",
   "execution_count": 19,
   "metadata": {},
   "outputs": [
    {
     "data": {
      "image/png": "[encoded data removed]",
      "text/plain": [
       "<Figure size 720x720 with 4 Axes>"
      ]
     },
     "metadata": {
      "needs_background": "light"
     },
     "output_type": "display_data"
    },
    {
     "data": {
      "image/png": "[encoded data removed]",
      "text/plain": [
       "<Figure size 720x720 with 4 Axes>"
      ]
     },
     "metadata": {
      "needs_background": "light"
     },
     "output_type": "display_data"
    }
   ],
   "source": [
    "calibration_curve(rfc_model_pima, mlp_model_pima, lr_model_pima, 'PIMA Diabetes Dataset', X_train_pima, X_test_pima, y_train_pima, y_test_pima)\n",
    "calibration_curve(rfc_model_adult, mlp_model_adult, lr_model_adult, 'Adult Census Dataset', X_train_adult, X_test_adult, y_train_adult, y_test_adult)"
   ]
  },
  {
   "cell_type": "markdown",
   "metadata": {},
   "source": [
    "## Part c)"
   ]
  },
  {
   "cell_type": "code",
   "execution_count": 20,
   "metadata": {},
   "outputs": [],
   "source": [
    "# import DiCE\n",
    "import dice_ml\n",
    "from dice_ml.utils import helpers  # helper functions\n",
    "\n",
    "from sklearn import metrics\n",
    "from sklearn.compose import ColumnTransformer\n",
    "from sklearn.model_selection import train_test_split\n",
    "from sklearn.pipeline import Pipeline\n",
    "from sklearn.preprocessing import StandardScaler, OneHotEncoder\n",
    "from sklearn.ensemble import RandomForestClassifier"
   ]
  },
  {
   "cell_type": "markdown",
   "metadata": {},
   "source": [
    "#### Methods"
   ]
  },
  {
   "cell_type": "code",
   "execution_count": 83,
   "metadata": {},
   "outputs": [],
   "source": [
    "def generateCFs(model, data, continuous, outcome, method, display = False):\n",
    "    ''' Function to generate counter factuals'''\n",
    "    backend = 'sklearn'\n",
    "    dice_model = dice_ml.Model(model=model, backend=backend)\n",
    "    dice_data = dice_ml.Data(dataframe= data, \n",
    "                    continuous_features= continuous, \n",
    "                    outcome_name= outcome)\n",
    "\n",
    "    # initiate DiCE\n",
    "    dice_exp = dice_ml.Dice(dice_data, dice_model, method= method)\n",
    "\n",
    "    query_instances = data.drop(outcome, axis = 1)[:15].astype('float').fillna(0)\n",
    "    \n",
    "    dice_exp_cf = dice_exp.generate_counterfactuals(query_instances, total_CFs=5, verbose=False)\n",
    "\n",
    "    if display:\n",
    "        dice_exp_cf.visualize_as_dataframe(show_only_changes=True)\n",
    "    return dice_exp_cf"
   ]
  },
  {
   "cell_type": "code",
   "execution_count": 89,
   "metadata": {},
   "outputs": [],
   "source": [
    "def generateContProximity(cfs, dataset, sample_size, n_cfs, c_features):\n",
    "    dist_outer = []\n",
    "    for i in range(sample_size):\n",
    "        p1 = dataset[c_features].iloc[i].values\n",
    "        out_array = cfs.cf_examples_list[i].final_cfs_df[c_features].values.T\n",
    "        temp = np.array([np.abs(c-p1) for c in out_array.T])\n",
    "        dist = (temp @ temp.T) @ np.ones(n_cfs)\n",
    "        dist = np.dot(temp, out_array)\n",
    "        dist_outer.append(-np.mean(np.sqrt(dist)))\n",
    "    return np.mean(dist_outer)\n",
    "\n",
    "def generateValidity(cfs, sample_size):\n",
    "    r_outer = []\n",
    "    for i in range(sample_size):\n",
    "        unique_cfs = len(set(map(str, cfs.cf_examples_list[i].final_cfs_df.values)))\n",
    "        r_outer.append(float(unique_cfs) / sample_size)\n",
    "    return np.mean(r_outer)\n",
    "\n",
    "def generateSparcity(cfs, dataset, outcome, sample_size, n_cfs):\n",
    "    dist_outer = []\n",
    "    for i in range(sample_size):\n",
    "        p1 = dataset.drop(outcome, axis = 1).iloc[i].values\n",
    "        out_array = cfs.cf_examples_list[i].final_cfs_df.values.T\n",
    "        out_array = out_array[:-1,:]\n",
    "        temp = sum([sum(np.abs(c-p1)>0) for c in out_array.T])\n",
    "        temp = float(temp) / n_cfs / dataset.shape[1]\n",
    "        dist_outer.append(1 - temp)\n",
    "    return np.mean(dist_outer)\n",
    "\n",
    "\n",
    "def generateDiversity(cfs, sample_size, n_cfs):\n",
    "    dist_outer = []\n",
    "    for i in range(sample_size):\n",
    "        out_array = cfs.cf_examples_list[i].final_cfs_df.values.T\n",
    "        dist = 0\n",
    "        for c in out_array.T:\n",
    "            temp = np.array([np.abs(q-c) for q in out_array.T])\n",
    "            dist += sum((temp @ temp.T) @ np.ones(5)) / (c.T @ c)\n",
    "        dist = float(dist) / n_cfs\n",
    "        dist_outer.append(dist)\n",
    "    return np.mean(dist_outer)\n",
    "\n",
    "def getMmd(cfs, dataset, outcome, sample_size, gamma=1.0):\n",
    "    XX_list = []\n",
    "    YY_list = []\n",
    "    XY_list = []\n",
    "    for i in range(sample_size):\n",
    "        X = dataset.drop(outcome, axis = 1).iloc[i].values.reshape(-1, 1).T\n",
    "        Y = cfs.cf_examples_list[i].final_cfs_df.values\n",
    "        Y = Y[:,:-1]\n",
    "        XX = metrics.pairwise.rbf_kernel(X, X, gamma)\n",
    "        YY = metrics.pairwise.rbf_kernel(Y, Y, gamma)\n",
    "        XY = metrics.pairwise.rbf_kernel(X, Y, gamma)\n",
    "        XX_list.append(XX)\n",
    "        YY_list.append(YY)\n",
    "        XY_list.append(XY)\n",
    "    return np.mean(XX_list) + np.mean(YY_list) - 2 * np.mean(XY_list)"
   ]
  },
  {
   "cell_type": "markdown",
   "metadata": {},
   "source": [
    "## PIMA Diabetes"
   ]
  },
  {
   "cell_type": "code",
   "execution_count": 90,
   "metadata": {},
   "outputs": [
    {
     "name": "stderr",
     "output_type": "stream",
     "text": [
      "100%|██████████| 15/15 [00:00<00:00, 17.35it/s]\n",
      "100%|██████████| 15/15 [00:00<00:00, 17.03it/s]\n",
      "100%|██████████| 15/15 [00:02<00:00,  5.17it/s]\n",
      "100%|██████████| 15/15 [00:00<00:00, 18.28it/s]\n",
      "100%|██████████| 15/15 [00:00<00:00, 19.42it/s]\n",
      "100%|██████████| 15/15 [00:19<00:00,  1.32s/it]\n"
     ]
    },
    {
     "data": {
      "text/html": [
       "<div>\n",
       "<style scoped>\n",
       "    .dataframe tbody tr th:only-of-type {\n",
       "        vertical-align: middle;\n",
       "    }\n",
       "\n",
       "    .dataframe tbody tr th {\n",
       "        vertical-align: top;\n",
       "    }\n",
       "\n",
       "    .dataframe thead th {\n",
       "        text-align: right;\n",
       "    }\n",
       "</style>\n",
       "<table border=\"1\" class=\"dataframe\">\n",
       "  <thead>\n",
       "    <tr style=\"text-align: right;\">\n",
       "      <th></th>\n",
       "      <th>Dataset</th>\n",
       "      <th>Method</th>\n",
       "      <th>Model</th>\n",
       "      <th>Proximity</th>\n",
       "      <th>Validity</th>\n",
       "      <th>Sparcity</th>\n",
       "      <th>Diversity</th>\n",
       "      <th>MMD</th>\n",
       "    </tr>\n",
       "  </thead>\n",
       "  <tbody>\n",
       "    <tr>\n",
       "      <th>0</th>\n",
       "      <td>Diabetes</td>\n",
       "      <td>random</td>\n",
       "      <td>Logistic Regression</td>\n",
       "      <td>-59.227402</td>\n",
       "      <td>1.0</td>\n",
       "      <td>0.808889</td>\n",
       "      <td>2.130108</td>\n",
       "      <td>1.170591</td>\n",
       "    </tr>\n",
       "    <tr>\n",
       "      <th>1</th>\n",
       "      <td>Diabetes</td>\n",
       "      <td>random</td>\n",
       "      <td>Multi Layer Perceptron</td>\n",
       "      <td>-164.230803</td>\n",
       "      <td>1.0</td>\n",
       "      <td>0.808889</td>\n",
       "      <td>11.639576</td>\n",
       "      <td>1.200000</td>\n",
       "    </tr>\n",
       "    <tr>\n",
       "      <th>2</th>\n",
       "      <td>Diabetes</td>\n",
       "      <td>random</td>\n",
       "      <td>Random Forest Classifier</td>\n",
       "      <td>-124.148977</td>\n",
       "      <td>1.0</td>\n",
       "      <td>0.777778</td>\n",
       "      <td>11.194653</td>\n",
       "      <td>1.176758</td>\n",
       "    </tr>\n",
       "    <tr>\n",
       "      <th>3</th>\n",
       "      <td>Diabetes</td>\n",
       "      <td>genetic</td>\n",
       "      <td>Logistic Regression</td>\n",
       "      <td>-95.793031</td>\n",
       "      <td>1.0</td>\n",
       "      <td>0.377778</td>\n",
       "      <td>3.150493</td>\n",
       "      <td>1.125886</td>\n",
       "    </tr>\n",
       "    <tr>\n",
       "      <th>4</th>\n",
       "      <td>Diabetes</td>\n",
       "      <td>genetic</td>\n",
       "      <td>Multi Layer Perceptron</td>\n",
       "      <td>-79.400859</td>\n",
       "      <td>1.0</td>\n",
       "      <td>0.391111</td>\n",
       "      <td>38.989246</td>\n",
       "      <td>1.120000</td>\n",
       "    </tr>\n",
       "    <tr>\n",
       "      <th>5</th>\n",
       "      <td>Diabetes</td>\n",
       "      <td>genetic</td>\n",
       "      <td>Random Forest Classifier</td>\n",
       "      <td>-110.685878</td>\n",
       "      <td>1.0</td>\n",
       "      <td>0.324444</td>\n",
       "      <td>2.836485</td>\n",
       "      <td>1.202165</td>\n",
       "    </tr>\n",
       "  </tbody>\n",
       "</table>\n",
       "</div>"
      ],
      "text/plain": [
       "    Dataset   Method                     Model   Proximity  Validity  \\\n",
       "0  Diabetes   random       Logistic Regression  -59.227402       1.0   \n",
       "1  Diabetes   random    Multi Layer Perceptron -164.230803       1.0   \n",
       "2  Diabetes   random  Random Forest Classifier -124.148977       1.0   \n",
       "3  Diabetes  genetic       Logistic Regression  -95.793031       1.0   \n",
       "4  Diabetes  genetic    Multi Layer Perceptron  -79.400859       1.0   \n",
       "5  Diabetes  genetic  Random Forest Classifier -110.685878       1.0   \n",
       "\n",
       "   Sparcity  Diversity       MMD  \n",
       "0  0.808889   2.130108  1.170591  \n",
       "1  0.808889  11.639576  1.200000  \n",
       "2  0.777778  11.194653  1.176758  \n",
       "3  0.377778   3.150493  1.125886  \n",
       "4  0.391111  38.989246  1.120000  \n",
       "5  0.324444   2.836485  1.202165  "
      ]
     },
     "execution_count": 90,
     "metadata": {},
     "output_type": "execute_result"
    }
   ],
   "source": [
    "df_metric = pd.DataFrame(columns=('Dataset','Method','Model','Proximity','Validity','Sparcity','Diversity','MMD'))\n",
    "methods = ['random','genetic']\n",
    "model_names = [\"Logistic Regression\", \"Multi Layer Perceptron\", \"Random Forest Classifier\"]\n",
    "\n",
    "pima_continuous = ['Pregnancies', 'Glucose', 'BloodPressure', 'SkinThickness', 'Insulin', 'BMI', 'DiabetesPedigreeFunction', 'Age']\n",
    "pima_data = pd.concat([X_test_pima, y_test_pima], axis=1).reset_index(drop = True)\n",
    "\n",
    "\n",
    "for method in methods:\n",
    "    for index, model in enumerate([lr_model_pima, mlp_model_pima, rfc_model_pima]):\n",
    "        cfs = generateCFs(model = model, data = pima_data,\n",
    "                        continuous = pima_continuous, outcome = 'Outcome', method = method)\n",
    "        \n",
    "        prox = generateContProximity(cfs, pima_data, 5, 5, pima_continuous)\n",
    "        valid = generateValidity(cfs, 5)\n",
    "        sparc = generateSparcity(cfs, pima_data, 'Outcome', 5, 5)\n",
    "        diverse = generateDiversity(cfs, 5, 5)\n",
    "        mmd = getMmd(cfs, pima_data, 'Outcome', 5)\n",
    "\n",
    "        df_metric = df_metric.append(pd.DataFrame([['Diabetes',method,model_names[index],prox,valid,sparc,diverse,mmd]],columns=('Dataset','Method','Model','Proximity','Validity','Sparcity','Diversity','MMD')),ignore_index=True)\n",
    "df_metric\n"
   ]
  },
  {
   "cell_type": "markdown",
   "metadata": {},
   "source": [
    "## Adult Census"
   ]
  },
  {
   "cell_type": "code",
   "execution_count": 91,
   "metadata": {},
   "outputs": [
    {
     "name": "stdout",
     "output_type": "stream",
     "text": [
      "random Logistic Regression\n"
     ]
    },
    {
     "name": "stderr",
     "output_type": "stream",
     "text": [
      "100%|██████████| 15/15 [00:01<00:00,  8.72it/s]\n"
     ]
    },
    {
     "name": "stdout",
     "output_type": "stream",
     "text": [
      "random Multi Layer Perceptron\n"
     ]
    },
    {
     "name": "stderr",
     "output_type": "stream",
     "text": [
      "100%|██████████| 15/15 [00:01<00:00,  8.55it/s]\n"
     ]
    },
    {
     "name": "stdout",
     "output_type": "stream",
     "text": [
      "random Random Forest Classifier\n"
     ]
    },
    {
     "name": "stderr",
     "output_type": "stream",
     "text": [
      "100%|██████████| 15/15 [00:26<00:00,  1.76s/it]\n"
     ]
    },
    {
     "name": "stdout",
     "output_type": "stream",
     "text": [
      "genetic Logistic Regression\n"
     ]
    },
    {
     "name": "stderr",
     "output_type": "stream",
     "text": [
      "  0%|          | 0/15 [00:00<?, ?it/s]WARNING:root: MAD for feature capital-gain is 0, so replacing it with 1.0 to avoid error.\n",
      "WARNING:root: MAD for feature capital-loss is 0, so replacing it with 1.0 to avoid error.\n",
      "  0%|          | 0/15 [00:00<?, ?it/s]\n"
     ]
    },
    {
     "ename": "TypeError",
     "evalue": "ufunc 'isnan' not supported for the input types, and the inputs could not be safely coerced to any supported types according to the casting rule ''safe''",
     "output_type": "error",
     "traceback": [
      "\u001b[0;31m---------------------------------------------------------------------------\u001b[0m",
      "\u001b[0;31mTypeError\u001b[0m                                 Traceback (most recent call last)",
      "\u001b[0;32m/var/folders/y3/v6fyb_rs72bcn7ftc3lvwvmw0000gn/T/ipykernel_1119/4260996384.py\u001b[0m in \u001b[0;36m<module>\u001b[0;34m\u001b[0m\n\u001b[1;32m      6\u001b[0m     \u001b[0;32mfor\u001b[0m \u001b[0mindex\u001b[0m\u001b[0;34m,\u001b[0m \u001b[0mmodel\u001b[0m \u001b[0;32min\u001b[0m \u001b[0menumerate\u001b[0m\u001b[0;34m(\u001b[0m\u001b[0;34m[\u001b[0m\u001b[0mlr_model_adult\u001b[0m\u001b[0;34m,\u001b[0m \u001b[0mmlp_model_adult\u001b[0m\u001b[0;34m,\u001b[0m \u001b[0mrfc_model_adult\u001b[0m\u001b[0;34m]\u001b[0m\u001b[0;34m)\u001b[0m\u001b[0;34m:\u001b[0m\u001b[0;34m\u001b[0m\u001b[0;34m\u001b[0m\u001b[0m\n\u001b[1;32m      7\u001b[0m         \u001b[0mprint\u001b[0m\u001b[0;34m(\u001b[0m\u001b[0mmethod\u001b[0m\u001b[0;34m,\u001b[0m \u001b[0mmodel_names\u001b[0m\u001b[0;34m[\u001b[0m\u001b[0mindex\u001b[0m\u001b[0;34m]\u001b[0m\u001b[0;34m)\u001b[0m\u001b[0;34m\u001b[0m\u001b[0;34m\u001b[0m\u001b[0m\n\u001b[0;32m----> 8\u001b[0;31m         cfs = generateCFs(model = model, data = adult_data,\n\u001b[0m\u001b[1;32m      9\u001b[0m                         continuous = adult_continuous, outcome = 'target', method = method)\n\u001b[1;32m     10\u001b[0m \u001b[0;34m\u001b[0m\u001b[0m\n",
      "\u001b[0;32m/var/folders/y3/v6fyb_rs72bcn7ftc3lvwvmw0000gn/T/ipykernel_1119/1664240428.py\u001b[0m in \u001b[0;36mgenerateCFs\u001b[0;34m(model, data, continuous, outcome, method, display)\u001b[0m\n\u001b[1;32m     12\u001b[0m     \u001b[0mquery_instances\u001b[0m \u001b[0;34m=\u001b[0m \u001b[0mdata\u001b[0m\u001b[0;34m.\u001b[0m\u001b[0mdrop\u001b[0m\u001b[0;34m(\u001b[0m\u001b[0moutcome\u001b[0m\u001b[0;34m,\u001b[0m \u001b[0maxis\u001b[0m \u001b[0;34m=\u001b[0m \u001b[0;36m1\u001b[0m\u001b[0;34m)\u001b[0m\u001b[0;34m[\u001b[0m\u001b[0;34m:\u001b[0m\u001b[0;36m15\u001b[0m\u001b[0;34m]\u001b[0m\u001b[0;34m.\u001b[0m\u001b[0mastype\u001b[0m\u001b[0;34m(\u001b[0m\u001b[0;34m'float'\u001b[0m\u001b[0;34m)\u001b[0m\u001b[0;34m.\u001b[0m\u001b[0mfillna\u001b[0m\u001b[0;34m(\u001b[0m\u001b[0;36m0\u001b[0m\u001b[0;34m)\u001b[0m\u001b[0;34m\u001b[0m\u001b[0;34m\u001b[0m\u001b[0m\n\u001b[1;32m     13\u001b[0m \u001b[0;34m\u001b[0m\u001b[0m\n\u001b[0;32m---> 14\u001b[0;31m     \u001b[0mdice_exp_cf\u001b[0m \u001b[0;34m=\u001b[0m \u001b[0mdice_exp\u001b[0m\u001b[0;34m.\u001b[0m\u001b[0mgenerate_counterfactuals\u001b[0m\u001b[0;34m(\u001b[0m\u001b[0mquery_instances\u001b[0m\u001b[0;34m,\u001b[0m \u001b[0mtotal_CFs\u001b[0m\u001b[0;34m=\u001b[0m\u001b[0;36m5\u001b[0m\u001b[0;34m,\u001b[0m \u001b[0mverbose\u001b[0m\u001b[0;34m=\u001b[0m\u001b[0;32mFalse\u001b[0m\u001b[0;34m)\u001b[0m\u001b[0;34m\u001b[0m\u001b[0;34m\u001b[0m\u001b[0m\n\u001b[0m\u001b[1;32m     15\u001b[0m \u001b[0;34m\u001b[0m\u001b[0m\n\u001b[1;32m     16\u001b[0m     \u001b[0;32mif\u001b[0m \u001b[0mdisplay\u001b[0m\u001b[0;34m:\u001b[0m\u001b[0;34m\u001b[0m\u001b[0;34m\u001b[0m\u001b[0m\n",
      "\u001b[0;32m~/opt/anaconda3/envs/mis-382n/lib/python3.9/site-packages/dice_ml/explainer_interfaces/explainer_base.py\u001b[0m in \u001b[0;36mgenerate_counterfactuals\u001b[0;34m(self, query_instances, total_CFs, desired_class, desired_range, permitted_range, features_to_vary, stopping_threshold, posthoc_sparsity_param, posthoc_sparsity_algorithm, verbose, **kwargs)\u001b[0m\n\u001b[1;32m     90\u001b[0m         \u001b[0;32mfor\u001b[0m \u001b[0mquery_instance\u001b[0m \u001b[0;32min\u001b[0m \u001b[0mtqdm\u001b[0m\u001b[0;34m(\u001b[0m\u001b[0mquery_instances_list\u001b[0m\u001b[0;34m)\u001b[0m\u001b[0;34m:\u001b[0m\u001b[0;34m\u001b[0m\u001b[0;34m\u001b[0m\u001b[0m\n\u001b[1;32m     91\u001b[0m             \u001b[0mself\u001b[0m\u001b[0;34m.\u001b[0m\u001b[0mdata_interface\u001b[0m\u001b[0;34m.\u001b[0m\u001b[0mset_continuous_feature_indexes\u001b[0m\u001b[0;34m(\u001b[0m\u001b[0mquery_instance\u001b[0m\u001b[0;34m)\u001b[0m\u001b[0;34m\u001b[0m\u001b[0;34m\u001b[0m\u001b[0m\n\u001b[0;32m---> 92\u001b[0;31m             res = self._generate_counterfactuals(\n\u001b[0m\u001b[1;32m     93\u001b[0m                 \u001b[0mquery_instance\u001b[0m\u001b[0;34m,\u001b[0m \u001b[0mtotal_CFs\u001b[0m\u001b[0;34m,\u001b[0m\u001b[0;34m\u001b[0m\u001b[0;34m\u001b[0m\u001b[0m\n\u001b[1;32m     94\u001b[0m                 \u001b[0mdesired_class\u001b[0m\u001b[0;34m=\u001b[0m\u001b[0mdesired_class\u001b[0m\u001b[0;34m,\u001b[0m\u001b[0;34m\u001b[0m\u001b[0;34m\u001b[0m\u001b[0m\n",
      "\u001b[0;32m~/opt/anaconda3/envs/mis-382n/lib/python3.9/site-packages/dice_ml/explainer_interfaces/dice_genetic.py\u001b[0m in \u001b[0;36m_generate_counterfactuals\u001b[0;34m(self, query_instance, total_CFs, initialization, desired_range, desired_class, proximity_weight, sparsity_weight, diversity_weight, categorical_penalty, algorithm, features_to_vary, permitted_range, yloss_type, diversity_loss_type, feature_weights, stopping_threshold, posthoc_sparsity_param, posthoc_sparsity_algorithm, maxiterations, thresh, verbose)\u001b[0m\n\u001b[1;32m    269\u001b[0m         \u001b[0mquery_instance_orig\u001b[0m \u001b[0;34m=\u001b[0m \u001b[0mquery_instance\u001b[0m\u001b[0;34m\u001b[0m\u001b[0;34m\u001b[0m\u001b[0m\n\u001b[1;32m    270\u001b[0m         \u001b[0mquery_instance\u001b[0m \u001b[0;34m=\u001b[0m \u001b[0mself\u001b[0m\u001b[0;34m.\u001b[0m\u001b[0mdata_interface\u001b[0m\u001b[0;34m.\u001b[0m\u001b[0mprepare_query_instance\u001b[0m\u001b[0;34m(\u001b[0m\u001b[0mquery_instance\u001b[0m\u001b[0;34m=\u001b[0m\u001b[0mquery_instance\u001b[0m\u001b[0;34m)\u001b[0m\u001b[0;34m\u001b[0m\u001b[0;34m\u001b[0m\u001b[0m\n\u001b[0;32m--> 271\u001b[0;31m         \u001b[0mquery_instance\u001b[0m \u001b[0;34m=\u001b[0m \u001b[0mself\u001b[0m\u001b[0;34m.\u001b[0m\u001b[0mlabel_encode\u001b[0m\u001b[0;34m(\u001b[0m\u001b[0mquery_instance\u001b[0m\u001b[0;34m)\u001b[0m\u001b[0;34m\u001b[0m\u001b[0;34m\u001b[0m\u001b[0m\n\u001b[0m\u001b[1;32m    272\u001b[0m         \u001b[0mquery_instance\u001b[0m \u001b[0;34m=\u001b[0m \u001b[0mnp\u001b[0m\u001b[0;34m.\u001b[0m\u001b[0marray\u001b[0m\u001b[0;34m(\u001b[0m\u001b[0mquery_instance\u001b[0m\u001b[0;34m.\u001b[0m\u001b[0mvalues\u001b[0m\u001b[0;34m[\u001b[0m\u001b[0;36m0\u001b[0m\u001b[0;34m]\u001b[0m\u001b[0;34m)\u001b[0m\u001b[0;34m\u001b[0m\u001b[0;34m\u001b[0m\u001b[0m\n\u001b[1;32m    273\u001b[0m         \u001b[0mself\u001b[0m\u001b[0;34m.\u001b[0m\u001b[0mx1\u001b[0m \u001b[0;34m=\u001b[0m \u001b[0mquery_instance\u001b[0m\u001b[0;34m\u001b[0m\u001b[0;34m\u001b[0m\u001b[0m\n",
      "\u001b[0;32m~/opt/anaconda3/envs/mis-382n/lib/python3.9/site-packages/dice_ml/explainer_interfaces/dice_genetic.py\u001b[0m in \u001b[0;36mlabel_encode\u001b[0;34m(self, input_instance)\u001b[0m\n\u001b[1;32m    524\u001b[0m     \u001b[0;32mdef\u001b[0m \u001b[0mlabel_encode\u001b[0m\u001b[0;34m(\u001b[0m\u001b[0mself\u001b[0m\u001b[0;34m,\u001b[0m \u001b[0minput_instance\u001b[0m\u001b[0;34m)\u001b[0m\u001b[0;34m:\u001b[0m\u001b[0;34m\u001b[0m\u001b[0;34m\u001b[0m\u001b[0m\n\u001b[1;32m    525\u001b[0m         \u001b[0;32mfor\u001b[0m \u001b[0mcolumn\u001b[0m \u001b[0;32min\u001b[0m \u001b[0mself\u001b[0m\u001b[0;34m.\u001b[0m\u001b[0mdata_interface\u001b[0m\u001b[0;34m.\u001b[0m\u001b[0mcategorical_feature_names\u001b[0m\u001b[0;34m:\u001b[0m\u001b[0;34m\u001b[0m\u001b[0;34m\u001b[0m\u001b[0m\n\u001b[0;32m--> 526\u001b[0;31m             \u001b[0minput_instance\u001b[0m\u001b[0;34m[\u001b[0m\u001b[0mcolumn\u001b[0m\u001b[0;34m]\u001b[0m \u001b[0;34m=\u001b[0m \u001b[0mself\u001b[0m\u001b[0;34m.\u001b[0m\u001b[0mlabelencoder\u001b[0m\u001b[0;34m[\u001b[0m\u001b[0mcolumn\u001b[0m\u001b[0;34m]\u001b[0m\u001b[0;34m.\u001b[0m\u001b[0mtransform\u001b[0m\u001b[0;34m(\u001b[0m\u001b[0minput_instance\u001b[0m\u001b[0;34m[\u001b[0m\u001b[0mcolumn\u001b[0m\u001b[0;34m]\u001b[0m\u001b[0;34m)\u001b[0m\u001b[0;34m\u001b[0m\u001b[0;34m\u001b[0m\u001b[0m\n\u001b[0m\u001b[1;32m    527\u001b[0m         \u001b[0;32mreturn\u001b[0m \u001b[0minput_instance\u001b[0m\u001b[0;34m\u001b[0m\u001b[0;34m\u001b[0m\u001b[0m\n\u001b[1;32m    528\u001b[0m \u001b[0;34m\u001b[0m\u001b[0m\n",
      "\u001b[0;32m~/opt/anaconda3/envs/mis-382n/lib/python3.9/site-packages/sklearn/preprocessing/_label.py\u001b[0m in \u001b[0;36mtransform\u001b[0;34m(self, y)\u001b[0m\n\u001b[1;32m    136\u001b[0m             \u001b[0;32mreturn\u001b[0m \u001b[0mnp\u001b[0m\u001b[0;34m.\u001b[0m\u001b[0marray\u001b[0m\u001b[0;34m(\u001b[0m\u001b[0;34m[\u001b[0m\u001b[0;34m]\u001b[0m\u001b[0;34m)\u001b[0m\u001b[0;34m\u001b[0m\u001b[0;34m\u001b[0m\u001b[0m\n\u001b[1;32m    137\u001b[0m \u001b[0;34m\u001b[0m\u001b[0m\n\u001b[0;32m--> 138\u001b[0;31m         \u001b[0;32mreturn\u001b[0m \u001b[0m_encode\u001b[0m\u001b[0;34m(\u001b[0m\u001b[0my\u001b[0m\u001b[0;34m,\u001b[0m \u001b[0muniques\u001b[0m\u001b[0;34m=\u001b[0m\u001b[0mself\u001b[0m\u001b[0;34m.\u001b[0m\u001b[0mclasses_\u001b[0m\u001b[0;34m)\u001b[0m\u001b[0;34m\u001b[0m\u001b[0;34m\u001b[0m\u001b[0m\n\u001b[0m\u001b[1;32m    139\u001b[0m \u001b[0;34m\u001b[0m\u001b[0m\n\u001b[1;32m    140\u001b[0m     \u001b[0;32mdef\u001b[0m \u001b[0minverse_transform\u001b[0m\u001b[0;34m(\u001b[0m\u001b[0mself\u001b[0m\u001b[0;34m,\u001b[0m \u001b[0my\u001b[0m\u001b[0;34m)\u001b[0m\u001b[0;34m:\u001b[0m\u001b[0;34m\u001b[0m\u001b[0;34m\u001b[0m\u001b[0m\n",
      "\u001b[0;32m~/opt/anaconda3/envs/mis-382n/lib/python3.9/site-packages/sklearn/utils/_encode.py\u001b[0m in \u001b[0;36m_encode\u001b[0;34m(values, uniques, check_unknown)\u001b[0m\n\u001b[1;32m    181\u001b[0m     \u001b[0;32melse\u001b[0m\u001b[0;34m:\u001b[0m\u001b[0;34m\u001b[0m\u001b[0;34m\u001b[0m\u001b[0m\n\u001b[1;32m    182\u001b[0m         \u001b[0;32mif\u001b[0m \u001b[0mcheck_unknown\u001b[0m\u001b[0;34m:\u001b[0m\u001b[0;34m\u001b[0m\u001b[0;34m\u001b[0m\u001b[0m\n\u001b[0;32m--> 183\u001b[0;31m             \u001b[0mdiff\u001b[0m \u001b[0;34m=\u001b[0m \u001b[0m_check_unknown\u001b[0m\u001b[0;34m(\u001b[0m\u001b[0mvalues\u001b[0m\u001b[0;34m,\u001b[0m \u001b[0muniques\u001b[0m\u001b[0;34m)\u001b[0m\u001b[0;34m\u001b[0m\u001b[0;34m\u001b[0m\u001b[0m\n\u001b[0m\u001b[1;32m    184\u001b[0m             \u001b[0;32mif\u001b[0m \u001b[0mdiff\u001b[0m\u001b[0;34m:\u001b[0m\u001b[0;34m\u001b[0m\u001b[0;34m\u001b[0m\u001b[0m\n\u001b[1;32m    185\u001b[0m                 raise ValueError(f\"y contains previously unseen labels: \"\n",
      "\u001b[0;32m~/opt/anaconda3/envs/mis-382n/lib/python3.9/site-packages/sklearn/utils/_encode.py\u001b[0m in \u001b[0;36m_check_unknown\u001b[0;34m(values, known_values, return_mask)\u001b[0m\n\u001b[1;32m    253\u001b[0m \u001b[0;34m\u001b[0m\u001b[0m\n\u001b[1;32m    254\u001b[0m         \u001b[0;31m# check for nans in the known_values\u001b[0m\u001b[0;34m\u001b[0m\u001b[0;34m\u001b[0m\u001b[0;34m\u001b[0m\u001b[0m\n\u001b[0;32m--> 255\u001b[0;31m         \u001b[0;32mif\u001b[0m \u001b[0mnp\u001b[0m\u001b[0;34m.\u001b[0m\u001b[0misnan\u001b[0m\u001b[0;34m(\u001b[0m\u001b[0mknown_values\u001b[0m\u001b[0;34m)\u001b[0m\u001b[0;34m.\u001b[0m\u001b[0many\u001b[0m\u001b[0;34m(\u001b[0m\u001b[0;34m)\u001b[0m\u001b[0;34m:\u001b[0m\u001b[0;34m\u001b[0m\u001b[0;34m\u001b[0m\u001b[0m\n\u001b[0m\u001b[1;32m    256\u001b[0m             \u001b[0mdiff_is_nan\u001b[0m \u001b[0;34m=\u001b[0m \u001b[0mnp\u001b[0m\u001b[0;34m.\u001b[0m\u001b[0misnan\u001b[0m\u001b[0;34m(\u001b[0m\u001b[0mdiff\u001b[0m\u001b[0;34m)\u001b[0m\u001b[0;34m\u001b[0m\u001b[0;34m\u001b[0m\u001b[0m\n\u001b[1;32m    257\u001b[0m             \u001b[0;32mif\u001b[0m \u001b[0mdiff_is_nan\u001b[0m\u001b[0;34m.\u001b[0m\u001b[0many\u001b[0m\u001b[0;34m(\u001b[0m\u001b[0;34m)\u001b[0m\u001b[0;34m:\u001b[0m\u001b[0;34m\u001b[0m\u001b[0;34m\u001b[0m\u001b[0m\n",
      "\u001b[0;31mTypeError\u001b[0m: ufunc 'isnan' not supported for the input types, and the inputs could not be safely coerced to any supported types according to the casting rule ''safe''"
     ]
    }
   ],
   "source": [
    "# adult_continuous = adult_data.drop('target', axis= 1).columns.to_list()#['age','fnlwgt','education-num','capital-gain','capital-loss','hours-per-week']\n",
    "adult_continuous = ['age','fnlwgt','education-num','capital-gain','capital-loss','hours-per-week']\n",
    "adult_data = pd.concat([X_test_adult, y_test_adult], axis=1).reset_index(drop = True).astype('float').fillna(0)#[adult_continuous]\n",
    "\n",
    "for method in methods:\n",
    "    for index, model in enumerate([lr_model_adult, mlp_model_adult, rfc_model_adult]):\n",
    "        print(method, model_names[index])\n",
    "        cfs = generateCFs(model = model, data = adult_data,\n",
    "                        continuous = adult_continuous, outcome = 'target', method = method)\n",
    "        \n",
    "        prox = generateContProximity(cfs, adult_data, 5, 5, adult_continuous)\n",
    "        valid = generateValidity(cfs, 5)\n",
    "        sparc = generateSparcity(cfs, adult_data, 'target', 5, 5)\n",
    "        diverse = generateDiversity(cfs, 5, 5)\n",
    "        mmd = getMmd(cfs, adult_data, 'target', 5)\n",
    "\n",
    "        df_metric = df_metric.append(pd.DataFrame([['Census',method,model_names[index],prox,valid,sparc,diverse,mmd]],columns=('Dataset','Method','Model','Proximity','Validity','Sparcity','Diversity','MMD')),ignore_index=True)\n",
    "df_metric\n"
   ]
  },
  {
   "cell_type": "markdown",
   "metadata": {},
   "source": [
    "## Results"
   ]
  },
  {
   "cell_type": "code",
   "execution_count": 92,
   "metadata": {},
   "outputs": [
    {
     "data": {
      "text/html": [
       "<div>\n",
       "<style scoped>\n",
       "    .dataframe tbody tr th:only-of-type {\n",
       "        vertical-align: middle;\n",
       "    }\n",
       "\n",
       "    .dataframe tbody tr th {\n",
       "        vertical-align: top;\n",
       "    }\n",
       "\n",
       "    .dataframe thead th {\n",
       "        text-align: right;\n",
       "    }\n",
       "</style>\n",
       "<table border=\"1\" class=\"dataframe\">\n",
       "  <thead>\n",
       "    <tr style=\"text-align: right;\">\n",
       "      <th></th>\n",
       "      <th>Dataset</th>\n",
       "      <th>Method</th>\n",
       "      <th>Model</th>\n",
       "      <th>Proximity</th>\n",
       "      <th>Validity</th>\n",
       "      <th>Sparcity</th>\n",
       "      <th>Diversity</th>\n",
       "      <th>MMD</th>\n",
       "    </tr>\n",
       "  </thead>\n",
       "  <tbody>\n",
       "    <tr>\n",
       "      <th>0</th>\n",
       "      <td>Diabetes</td>\n",
       "      <td>random</td>\n",
       "      <td>Logistic Regression</td>\n",
       "      <td>-59.227402</td>\n",
       "      <td>1.0</td>\n",
       "      <td>0.808889</td>\n",
       "      <td>2.130108</td>\n",
       "      <td>1.170591</td>\n",
       "    </tr>\n",
       "    <tr>\n",
       "      <th>1</th>\n",
       "      <td>Diabetes</td>\n",
       "      <td>random</td>\n",
       "      <td>Multi Layer Perceptron</td>\n",
       "      <td>-164.230803</td>\n",
       "      <td>1.0</td>\n",
       "      <td>0.808889</td>\n",
       "      <td>11.639576</td>\n",
       "      <td>1.200000</td>\n",
       "    </tr>\n",
       "    <tr>\n",
       "      <th>2</th>\n",
       "      <td>Diabetes</td>\n",
       "      <td>random</td>\n",
       "      <td>Random Forest Classifier</td>\n",
       "      <td>-124.148977</td>\n",
       "      <td>1.0</td>\n",
       "      <td>0.777778</td>\n",
       "      <td>11.194653</td>\n",
       "      <td>1.176758</td>\n",
       "    </tr>\n",
       "    <tr>\n",
       "      <th>3</th>\n",
       "      <td>Diabetes</td>\n",
       "      <td>genetic</td>\n",
       "      <td>Logistic Regression</td>\n",
       "      <td>-95.793031</td>\n",
       "      <td>1.0</td>\n",
       "      <td>0.377778</td>\n",
       "      <td>3.150493</td>\n",
       "      <td>1.125886</td>\n",
       "    </tr>\n",
       "    <tr>\n",
       "      <th>4</th>\n",
       "      <td>Diabetes</td>\n",
       "      <td>genetic</td>\n",
       "      <td>Multi Layer Perceptron</td>\n",
       "      <td>-79.400859</td>\n",
       "      <td>1.0</td>\n",
       "      <td>0.391111</td>\n",
       "      <td>38.989246</td>\n",
       "      <td>1.120000</td>\n",
       "    </tr>\n",
       "    <tr>\n",
       "      <th>5</th>\n",
       "      <td>Diabetes</td>\n",
       "      <td>genetic</td>\n",
       "      <td>Random Forest Classifier</td>\n",
       "      <td>-110.685878</td>\n",
       "      <td>1.0</td>\n",
       "      <td>0.324444</td>\n",
       "      <td>2.836485</td>\n",
       "      <td>1.202165</td>\n",
       "    </tr>\n",
       "    <tr>\n",
       "      <th>6</th>\n",
       "      <td>Census</td>\n",
       "      <td>random</td>\n",
       "      <td>Logistic Regression</td>\n",
       "      <td>-14593.461960</td>\n",
       "      <td>1.0</td>\n",
       "      <td>0.980896</td>\n",
       "      <td>1.107718</td>\n",
       "      <td>1.196867</td>\n",
       "    </tr>\n",
       "    <tr>\n",
       "      <th>7</th>\n",
       "      <td>Census</td>\n",
       "      <td>random</td>\n",
       "      <td>Multi Layer Perceptron</td>\n",
       "      <td>-86381.420186</td>\n",
       "      <td>1.0</td>\n",
       "      <td>0.977910</td>\n",
       "      <td>189.687400</td>\n",
       "      <td>1.157279</td>\n",
       "    </tr>\n",
       "    <tr>\n",
       "      <th>8</th>\n",
       "      <td>Census</td>\n",
       "      <td>random</td>\n",
       "      <td>Random Forest Classifier</td>\n",
       "      <td>-54061.903747</td>\n",
       "      <td>1.0</td>\n",
       "      <td>0.910448</td>\n",
       "      <td>2.605730</td>\n",
       "      <td>1.231596</td>\n",
       "    </tr>\n",
       "  </tbody>\n",
       "</table>\n",
       "</div>"
      ],
      "text/plain": [
       "    Dataset   Method                     Model     Proximity  Validity  \\\n",
       "0  Diabetes   random       Logistic Regression    -59.227402       1.0   \n",
       "1  Diabetes   random    Multi Layer Perceptron   -164.230803       1.0   \n",
       "2  Diabetes   random  Random Forest Classifier   -124.148977       1.0   \n",
       "3  Diabetes  genetic       Logistic Regression    -95.793031       1.0   \n",
       "4  Diabetes  genetic    Multi Layer Perceptron    -79.400859       1.0   \n",
       "5  Diabetes  genetic  Random Forest Classifier   -110.685878       1.0   \n",
       "6    Census   random       Logistic Regression -14593.461960       1.0   \n",
       "7    Census   random    Multi Layer Perceptron -86381.420186       1.0   \n",
       "8    Census   random  Random Forest Classifier -54061.903747       1.0   \n",
       "\n",
       "   Sparcity   Diversity       MMD  \n",
       "0  0.808889    2.130108  1.170591  \n",
       "1  0.808889   11.639576  1.200000  \n",
       "2  0.777778   11.194653  1.176758  \n",
       "3  0.377778    3.150493  1.125886  \n",
       "4  0.391111   38.989246  1.120000  \n",
       "5  0.324444    2.836485  1.202165  \n",
       "6  0.980896    1.107718  1.196867  \n",
       "7  0.977910  189.687400  1.157279  \n",
       "8  0.910448    2.605730  1.231596  "
      ]
     },
     "execution_count": 92,
     "metadata": {},
     "output_type": "execute_result"
    }
   ],
   "source": [
    "df_metric"
   ]
  },
  {
   "cell_type": "markdown",
   "metadata": {},
   "source": [
    "***\n",
    "***"
   ]
  }
 ],
 "metadata": {
  "colab": {
   "collapsed_sections": [],
   "name": "MIS382N-HW4.ipynb",
   "provenance": []
  },
  "interpreter": {
   "hash": "d30a65aae2e2006c4025eb4ed1e9e7ce326ed65d59eb79554b448ad831a6888a"
  },
  "kernelspec": {
   "display_name": "Python 3.9.6 64-bit ('mis-382n': conda)",
   "name": "python3"
  },
  "language_info": {
   "codemirror_mode": {
    "name": "ipython",
    "version": 3
   },
   "file_extension": ".py",
   "mimetype": "text/x-python",
   "name": "python",
   "nbconvert_exporter": "python",
   "pygments_lexer": "ipython3",
   "version": "3.9.6"
  }
 },
 "nbformat": 4,
 "nbformat_minor": 1
}
